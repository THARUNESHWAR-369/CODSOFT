{
  "nbformat": 4,
  "nbformat_minor": 0,
  "metadata": {
    "colab": {
      "provenance": [],
      "toc_visible": true,
      "gpuType": "T4"
    },
    "kernelspec": {
      "name": "python3",
      "display_name": "Python 3"
    },
    "language_info": {
      "name": "python"
    },
    "accelerator": "GPU"
  },
  "cells": [
    {
      "cell_type": "markdown",
      "source": [
        "# Install Libraries"
      ],
      "metadata": {
        "id": "_gr5udq9kSBu"
      }
    },
    {
      "cell_type": "code",
      "source": [
        "!pip install optuna"
      ],
      "metadata": {
        "id": "yJvFlqB4kPd7",
        "colab": {
          "base_uri": "https://localhost:8080/"
        },
        "outputId": "6730fc7b-3246-4e43-b7e9-313b8bf6268f"
      },
      "execution_count": 1,
      "outputs": [
        {
          "output_type": "stream",
          "name": "stdout",
          "text": [
            "Collecting optuna\n",
            "  Downloading optuna-3.2.0-py3-none-any.whl (390 kB)\n",
            "\u001b[2K     \u001b[90m━━━━━━━━━━━━━━━━━━━━━━━━━━━━━━━━━━━━━━━\u001b[0m \u001b[32m390.6/390.6 kB\u001b[0m \u001b[31m9.0 MB/s\u001b[0m eta \u001b[36m0:00:00\u001b[0m\n",
            "\u001b[?25hCollecting alembic>=1.5.0 (from optuna)\n",
            "  Downloading alembic-1.11.1-py3-none-any.whl (224 kB)\n",
            "\u001b[2K     \u001b[90m━━━━━━━━━━━━━━━━━━━━━━━━━━━━━━━━━━━━━━\u001b[0m \u001b[32m224.5/224.5 kB\u001b[0m \u001b[31m28.9 MB/s\u001b[0m eta \u001b[36m0:00:00\u001b[0m\n",
            "\u001b[?25hCollecting cmaes>=0.9.1 (from optuna)\n",
            "  Downloading cmaes-0.9.1-py3-none-any.whl (21 kB)\n",
            "Collecting colorlog (from optuna)\n",
            "  Downloading colorlog-6.7.0-py2.py3-none-any.whl (11 kB)\n",
            "Requirement already satisfied: numpy in /usr/local/lib/python3.10/dist-packages (from optuna) (1.22.4)\n",
            "Requirement already satisfied: packaging>=20.0 in /usr/local/lib/python3.10/dist-packages (from optuna) (23.1)\n",
            "Requirement already satisfied: sqlalchemy>=1.3.0 in /usr/local/lib/python3.10/dist-packages (from optuna) (2.0.18)\n",
            "Requirement already satisfied: tqdm in /usr/local/lib/python3.10/dist-packages (from optuna) (4.65.0)\n",
            "Requirement already satisfied: PyYAML in /usr/local/lib/python3.10/dist-packages (from optuna) (6.0)\n",
            "Collecting Mako (from alembic>=1.5.0->optuna)\n",
            "  Downloading Mako-1.2.4-py3-none-any.whl (78 kB)\n",
            "\u001b[2K     \u001b[90m━━━━━━━━━━━━━━━━━━━━━━━━━━━━━━━━━━━━━━━━\u001b[0m \u001b[32m78.7/78.7 kB\u001b[0m \u001b[31m11.2 MB/s\u001b[0m eta \u001b[36m0:00:00\u001b[0m\n",
            "\u001b[?25hRequirement already satisfied: typing-extensions>=4 in /usr/local/lib/python3.10/dist-packages (from alembic>=1.5.0->optuna) (4.7.1)\n",
            "Requirement already satisfied: greenlet!=0.4.17 in /usr/local/lib/python3.10/dist-packages (from sqlalchemy>=1.3.0->optuna) (2.0.2)\n",
            "Requirement already satisfied: MarkupSafe>=0.9.2 in /usr/local/lib/python3.10/dist-packages (from Mako->alembic>=1.5.0->optuna) (2.1.3)\n",
            "Installing collected packages: Mako, colorlog, cmaes, alembic, optuna\n",
            "Successfully installed Mako-1.2.4 alembic-1.11.1 cmaes-0.9.1 colorlog-6.7.0 optuna-3.2.0\n"
          ]
        }
      ]
    },
    {
      "cell_type": "code",
      "execution_count": 2,
      "metadata": {
        "id": "sYUgPLIixYtX"
      },
      "outputs": [],
      "source": [
        "! pip install -q kaggle"
      ]
    },
    {
      "cell_type": "markdown",
      "source": [
        "# Import dataset from kaggle"
      ],
      "metadata": {
        "id": "lL_7CRWJLPoU"
      }
    },
    {
      "cell_type": "code",
      "source": [
        "! mkdir ~/.kaggle\n",
        "! cp \"/content/drive/MyDrive/Colab Notebooks/kaggle json/kaggle.json\" ~/.kaggle/\n",
        "! chmod 600 ~/.kaggle/kaggle.json"
      ],
      "metadata": {
        "id": "dsJyJVDDxknV"
      },
      "execution_count": 3,
      "outputs": []
    },
    {
      "cell_type": "code",
      "source": [
        "! kaggle datasets download -d \"brendan45774/test-file\"\n",
        "! mkdir dataset\n",
        "! unzip test-file.zip -d dataset"
      ],
      "metadata": {
        "colab": {
          "base_uri": "https://localhost:8080/"
        },
        "id": "PeNLMbN-xuHH",
        "outputId": "3d82402b-cd1a-489b-9b10-0c1bb419aa40"
      },
      "execution_count": 4,
      "outputs": [
        {
          "output_type": "stream",
          "name": "stdout",
          "text": [
            "Downloading test-file.zip to /content\n",
            "\r  0% 0.00/11.2k [00:00<?, ?B/s]\n",
            "\r100% 11.2k/11.2k [00:00<00:00, 33.0MB/s]\n",
            "Archive:  test-file.zip\n",
            "  inflating: dataset/tested.csv      \n"
          ]
        }
      ]
    },
    {
      "cell_type": "markdown",
      "source": [
        "# Description"
      ],
      "metadata": {
        "id": "BMvQkcHALUp0"
      }
    },
    {
      "cell_type": "markdown",
      "source": [
        "sibsp: The dataset defines family relations in this way...\n",
        "\n",
        "Sibling = brother, sister, stepbrother, stepsister\n",
        "\n",
        "Spouse = husband, wife\n",
        "\n",
        "\n",
        "---\n",
        "\n",
        "\n",
        "parch: The dataset defines family relations in this way...\n",
        "\n",
        "Parent = mother, father\n",
        "\n",
        "Child = daughter, son, stepdaughter, stepson\n",
        "\n",
        "Some children travelled only with a nanny, therefore parch=0 for them."
      ],
      "metadata": {
        "id": "ieuHVRFiF_rS"
      }
    },
    {
      "cell_type": "markdown",
      "source": [
        "# Import Libraries"
      ],
      "metadata": {
        "id": "WHxpLQcXzDFM"
      }
    },
    {
      "cell_type": "code",
      "source": [
        "import pandas as pd\n",
        "import numpy as np\n",
        "import matplotlib as mpl\n",
        "import matplotlib.pyplot as plt\n",
        "import seaborn as sns\n",
        "import warnings\n",
        "\n",
        "sns.set()\n",
        "warnings.filterwarnings(\"ignore\")\n",
        "%matplotlib inline"
      ],
      "metadata": {
        "id": "6dJv5-TXzAbz"
      },
      "execution_count": 5,
      "outputs": []
    },
    {
      "cell_type": "markdown",
      "source": [
        "# Reading the Dataset"
      ],
      "metadata": {
        "id": "SW_AayQ15H2_"
      }
    },
    {
      "cell_type": "code",
      "source": [
        "df = pd.read_csv('dataset/tested.csv')"
      ],
      "metadata": {
        "id": "PokgP4ukyuaf"
      },
      "execution_count": 6,
      "outputs": []
    },
    {
      "cell_type": "code",
      "source": [
        "df.head()"
      ],
      "metadata": {
        "colab": {
          "base_uri": "https://localhost:8080/",
          "height": 206
        },
        "id": "DxIURvCLyuXo",
        "outputId": "062a407f-5b96-4f04-f127-d21b574608af"
      },
      "execution_count": 7,
      "outputs": [
        {
          "output_type": "execute_result",
          "data": {
            "text/plain": [
              "   PassengerId  Survived  Pclass  \\\n",
              "0          892         0       3   \n",
              "1          893         1       3   \n",
              "2          894         0       2   \n",
              "3          895         0       3   \n",
              "4          896         1       3   \n",
              "\n",
              "                                           Name     Sex   Age  SibSp  Parch  \\\n",
              "0                              Kelly, Mr. James    male  34.5      0      0   \n",
              "1              Wilkes, Mrs. James (Ellen Needs)  female  47.0      1      0   \n",
              "2                     Myles, Mr. Thomas Francis    male  62.0      0      0   \n",
              "3                              Wirz, Mr. Albert    male  27.0      0      0   \n",
              "4  Hirvonen, Mrs. Alexander (Helga E Lindqvist)  female  22.0      1      1   \n",
              "\n",
              "    Ticket     Fare Cabin Embarked  \n",
              "0   330911   7.8292   NaN        Q  \n",
              "1   363272   7.0000   NaN        S  \n",
              "2   240276   9.6875   NaN        Q  \n",
              "3   315154   8.6625   NaN        S  \n",
              "4  3101298  12.2875   NaN        S  "
            ],
            "text/html": [
              "\n",
              "\n",
              "  <div id=\"df-15de6788-221a-46d0-b880-5e2448e6e373\">\n",
              "    <div class=\"colab-df-container\">\n",
              "      <div>\n",
              "<style scoped>\n",
              "    .dataframe tbody tr th:only-of-type {\n",
              "        vertical-align: middle;\n",
              "    }\n",
              "\n",
              "    .dataframe tbody tr th {\n",
              "        vertical-align: top;\n",
              "    }\n",
              "\n",
              "    .dataframe thead th {\n",
              "        text-align: right;\n",
              "    }\n",
              "</style>\n",
              "<table border=\"1\" class=\"dataframe\">\n",
              "  <thead>\n",
              "    <tr style=\"text-align: right;\">\n",
              "      <th></th>\n",
              "      <th>PassengerId</th>\n",
              "      <th>Survived</th>\n",
              "      <th>Pclass</th>\n",
              "      <th>Name</th>\n",
              "      <th>Sex</th>\n",
              "      <th>Age</th>\n",
              "      <th>SibSp</th>\n",
              "      <th>Parch</th>\n",
              "      <th>Ticket</th>\n",
              "      <th>Fare</th>\n",
              "      <th>Cabin</th>\n",
              "      <th>Embarked</th>\n",
              "    </tr>\n",
              "  </thead>\n",
              "  <tbody>\n",
              "    <tr>\n",
              "      <th>0</th>\n",
              "      <td>892</td>\n",
              "      <td>0</td>\n",
              "      <td>3</td>\n",
              "      <td>Kelly, Mr. James</td>\n",
              "      <td>male</td>\n",
              "      <td>34.5</td>\n",
              "      <td>0</td>\n",
              "      <td>0</td>\n",
              "      <td>330911</td>\n",
              "      <td>7.8292</td>\n",
              "      <td>NaN</td>\n",
              "      <td>Q</td>\n",
              "    </tr>\n",
              "    <tr>\n",
              "      <th>1</th>\n",
              "      <td>893</td>\n",
              "      <td>1</td>\n",
              "      <td>3</td>\n",
              "      <td>Wilkes, Mrs. James (Ellen Needs)</td>\n",
              "      <td>female</td>\n",
              "      <td>47.0</td>\n",
              "      <td>1</td>\n",
              "      <td>0</td>\n",
              "      <td>363272</td>\n",
              "      <td>7.0000</td>\n",
              "      <td>NaN</td>\n",
              "      <td>S</td>\n",
              "    </tr>\n",
              "    <tr>\n",
              "      <th>2</th>\n",
              "      <td>894</td>\n",
              "      <td>0</td>\n",
              "      <td>2</td>\n",
              "      <td>Myles, Mr. Thomas Francis</td>\n",
              "      <td>male</td>\n",
              "      <td>62.0</td>\n",
              "      <td>0</td>\n",
              "      <td>0</td>\n",
              "      <td>240276</td>\n",
              "      <td>9.6875</td>\n",
              "      <td>NaN</td>\n",
              "      <td>Q</td>\n",
              "    </tr>\n",
              "    <tr>\n",
              "      <th>3</th>\n",
              "      <td>895</td>\n",
              "      <td>0</td>\n",
              "      <td>3</td>\n",
              "      <td>Wirz, Mr. Albert</td>\n",
              "      <td>male</td>\n",
              "      <td>27.0</td>\n",
              "      <td>0</td>\n",
              "      <td>0</td>\n",
              "      <td>315154</td>\n",
              "      <td>8.6625</td>\n",
              "      <td>NaN</td>\n",
              "      <td>S</td>\n",
              "    </tr>\n",
              "    <tr>\n",
              "      <th>4</th>\n",
              "      <td>896</td>\n",
              "      <td>1</td>\n",
              "      <td>3</td>\n",
              "      <td>Hirvonen, Mrs. Alexander (Helga E Lindqvist)</td>\n",
              "      <td>female</td>\n",
              "      <td>22.0</td>\n",
              "      <td>1</td>\n",
              "      <td>1</td>\n",
              "      <td>3101298</td>\n",
              "      <td>12.2875</td>\n",
              "      <td>NaN</td>\n",
              "      <td>S</td>\n",
              "    </tr>\n",
              "  </tbody>\n",
              "</table>\n",
              "</div>\n",
              "      <button class=\"colab-df-convert\" onclick=\"convertToInteractive('df-15de6788-221a-46d0-b880-5e2448e6e373')\"\n",
              "              title=\"Convert this dataframe to an interactive table.\"\n",
              "              style=\"display:none;\">\n",
              "\n",
              "  <svg xmlns=\"http://www.w3.org/2000/svg\" height=\"24px\"viewBox=\"0 0 24 24\"\n",
              "       width=\"24px\">\n",
              "    <path d=\"M0 0h24v24H0V0z\" fill=\"none\"/>\n",
              "    <path d=\"M18.56 5.44l.94 2.06.94-2.06 2.06-.94-2.06-.94-.94-2.06-.94 2.06-2.06.94zm-11 1L8.5 8.5l.94-2.06 2.06-.94-2.06-.94L8.5 2.5l-.94 2.06-2.06.94zm10 10l.94 2.06.94-2.06 2.06-.94-2.06-.94-.94-2.06-.94 2.06-2.06.94z\"/><path d=\"M17.41 7.96l-1.37-1.37c-.4-.4-.92-.59-1.43-.59-.52 0-1.04.2-1.43.59L10.3 9.45l-7.72 7.72c-.78.78-.78 2.05 0 2.83L4 21.41c.39.39.9.59 1.41.59.51 0 1.02-.2 1.41-.59l7.78-7.78 2.81-2.81c.8-.78.8-2.07 0-2.86zM5.41 20L4 18.59l7.72-7.72 1.47 1.35L5.41 20z\"/>\n",
              "  </svg>\n",
              "      </button>\n",
              "\n",
              "\n",
              "\n",
              "    <div id=\"df-747468e2-ccc2-497a-a095-b2dd712e3f66\">\n",
              "      <button class=\"colab-df-quickchart\" onclick=\"quickchart('df-747468e2-ccc2-497a-a095-b2dd712e3f66')\"\n",
              "              title=\"Suggest charts.\"\n",
              "              style=\"display:none;\">\n",
              "\n",
              "<svg xmlns=\"http://www.w3.org/2000/svg\" height=\"24px\"viewBox=\"0 0 24 24\"\n",
              "     width=\"24px\">\n",
              "    <g>\n",
              "        <path d=\"M19 3H5c-1.1 0-2 .9-2 2v14c0 1.1.9 2 2 2h14c1.1 0 2-.9 2-2V5c0-1.1-.9-2-2-2zM9 17H7v-7h2v7zm4 0h-2V7h2v10zm4 0h-2v-4h2v4z\"/>\n",
              "    </g>\n",
              "</svg>\n",
              "      </button>\n",
              "    </div>\n",
              "\n",
              "<style>\n",
              "  .colab-df-quickchart {\n",
              "    background-color: #E8F0FE;\n",
              "    border: none;\n",
              "    border-radius: 50%;\n",
              "    cursor: pointer;\n",
              "    display: none;\n",
              "    fill: #1967D2;\n",
              "    height: 32px;\n",
              "    padding: 0 0 0 0;\n",
              "    width: 32px;\n",
              "  }\n",
              "\n",
              "  .colab-df-quickchart:hover {\n",
              "    background-color: #E2EBFA;\n",
              "    box-shadow: 0px 1px 2px rgba(60, 64, 67, 0.3), 0px 1px 3px 1px rgba(60, 64, 67, 0.15);\n",
              "    fill: #174EA6;\n",
              "  }\n",
              "\n",
              "  [theme=dark] .colab-df-quickchart {\n",
              "    background-color: #3B4455;\n",
              "    fill: #D2E3FC;\n",
              "  }\n",
              "\n",
              "  [theme=dark] .colab-df-quickchart:hover {\n",
              "    background-color: #434B5C;\n",
              "    box-shadow: 0px 1px 3px 1px rgba(0, 0, 0, 0.15);\n",
              "    filter: drop-shadow(0px 1px 2px rgba(0, 0, 0, 0.3));\n",
              "    fill: #FFFFFF;\n",
              "  }\n",
              "</style>\n",
              "\n",
              "    <script>\n",
              "      async function quickchart(key) {\n",
              "        const containerElement = document.querySelector('#' + key);\n",
              "        const charts = await google.colab.kernel.invokeFunction(\n",
              "            'suggestCharts', [key], {});\n",
              "      }\n",
              "    </script>\n",
              "\n",
              "      <script>\n",
              "\n",
              "function displayQuickchartButton(domScope) {\n",
              "  let quickchartButtonEl =\n",
              "    domScope.querySelector('#df-747468e2-ccc2-497a-a095-b2dd712e3f66 button.colab-df-quickchart');\n",
              "  quickchartButtonEl.style.display =\n",
              "    google.colab.kernel.accessAllowed ? 'block' : 'none';\n",
              "}\n",
              "\n",
              "        displayQuickchartButton(document);\n",
              "      </script>\n",
              "      <style>\n",
              "    .colab-df-container {\n",
              "      display:flex;\n",
              "      flex-wrap:wrap;\n",
              "      gap: 12px;\n",
              "    }\n",
              "\n",
              "    .colab-df-convert {\n",
              "      background-color: #E8F0FE;\n",
              "      border: none;\n",
              "      border-radius: 50%;\n",
              "      cursor: pointer;\n",
              "      display: none;\n",
              "      fill: #1967D2;\n",
              "      height: 32px;\n",
              "      padding: 0 0 0 0;\n",
              "      width: 32px;\n",
              "    }\n",
              "\n",
              "    .colab-df-convert:hover {\n",
              "      background-color: #E2EBFA;\n",
              "      box-shadow: 0px 1px 2px rgba(60, 64, 67, 0.3), 0px 1px 3px 1px rgba(60, 64, 67, 0.15);\n",
              "      fill: #174EA6;\n",
              "    }\n",
              "\n",
              "    [theme=dark] .colab-df-convert {\n",
              "      background-color: #3B4455;\n",
              "      fill: #D2E3FC;\n",
              "    }\n",
              "\n",
              "    [theme=dark] .colab-df-convert:hover {\n",
              "      background-color: #434B5C;\n",
              "      box-shadow: 0px 1px 3px 1px rgba(0, 0, 0, 0.15);\n",
              "      filter: drop-shadow(0px 1px 2px rgba(0, 0, 0, 0.3));\n",
              "      fill: #FFFFFF;\n",
              "    }\n",
              "  </style>\n",
              "\n",
              "      <script>\n",
              "        const buttonEl =\n",
              "          document.querySelector('#df-15de6788-221a-46d0-b880-5e2448e6e373 button.colab-df-convert');\n",
              "        buttonEl.style.display =\n",
              "          google.colab.kernel.accessAllowed ? 'block' : 'none';\n",
              "\n",
              "        async function convertToInteractive(key) {\n",
              "          const element = document.querySelector('#df-15de6788-221a-46d0-b880-5e2448e6e373');\n",
              "          const dataTable =\n",
              "            await google.colab.kernel.invokeFunction('convertToInteractive',\n",
              "                                                     [key], {});\n",
              "          if (!dataTable) return;\n",
              "\n",
              "          const docLinkHtml = 'Like what you see? Visit the ' +\n",
              "            '<a target=\"_blank\" href=https://colab.research.google.com/notebooks/data_table.ipynb>data table notebook</a>'\n",
              "            + ' to learn more about interactive tables.';\n",
              "          element.innerHTML = '';\n",
              "          dataTable['output_type'] = 'display_data';\n",
              "          await google.colab.output.renderOutput(dataTable, element);\n",
              "          const docLink = document.createElement('div');\n",
              "          docLink.innerHTML = docLinkHtml;\n",
              "          element.appendChild(docLink);\n",
              "        }\n",
              "      </script>\n",
              "    </div>\n",
              "  </div>\n"
            ]
          },
          "metadata": {},
          "execution_count": 7
        }
      ]
    },
    {
      "cell_type": "markdown",
      "source": [
        "# Exploring the dataset"
      ],
      "metadata": {
        "id": "gtMZglas5OUE"
      }
    },
    {
      "cell_type": "code",
      "source": [
        "df.info()"
      ],
      "metadata": {
        "colab": {
          "base_uri": "https://localhost:8080/"
        },
        "id": "wpIt5rdhzMhj",
        "outputId": "c6f3721e-398f-4c2a-d79a-4bca2d9b6ac6"
      },
      "execution_count": 8,
      "outputs": [
        {
          "output_type": "stream",
          "name": "stdout",
          "text": [
            "<class 'pandas.core.frame.DataFrame'>\n",
            "RangeIndex: 418 entries, 0 to 417\n",
            "Data columns (total 12 columns):\n",
            " #   Column       Non-Null Count  Dtype  \n",
            "---  ------       --------------  -----  \n",
            " 0   PassengerId  418 non-null    int64  \n",
            " 1   Survived     418 non-null    int64  \n",
            " 2   Pclass       418 non-null    int64  \n",
            " 3   Name         418 non-null    object \n",
            " 4   Sex          418 non-null    object \n",
            " 5   Age          332 non-null    float64\n",
            " 6   SibSp        418 non-null    int64  \n",
            " 7   Parch        418 non-null    int64  \n",
            " 8   Ticket       418 non-null    object \n",
            " 9   Fare         417 non-null    float64\n",
            " 10  Cabin        91 non-null     object \n",
            " 11  Embarked     418 non-null    object \n",
            "dtypes: float64(2), int64(5), object(5)\n",
            "memory usage: 39.3+ KB\n"
          ]
        }
      ]
    },
    {
      "cell_type": "markdown",
      "source": [
        " Drop some columns"
      ],
      "metadata": {
        "id": "3_PJTDHH5TlG"
      }
    },
    {
      "cell_type": "code",
      "source": [
        "df.drop(['PassengerId', 'Name', 'Ticket'], axis=1, inplace=True)"
      ],
      "metadata": {
        "id": "U9An3Eqn5Ro_"
      },
      "execution_count": 9,
      "outputs": []
    },
    {
      "cell_type": "code",
      "source": [
        "df.head()"
      ],
      "metadata": {
        "colab": {
          "base_uri": "https://localhost:8080/",
          "height": 206
        },
        "id": "EJf_2zIG5o_O",
        "outputId": "6183e6ad-21d8-4f4d-a82a-ad2645153760"
      },
      "execution_count": 10,
      "outputs": [
        {
          "output_type": "execute_result",
          "data": {
            "text/plain": [
              "   Survived  Pclass     Sex   Age  SibSp  Parch     Fare Cabin Embarked\n",
              "0         0       3    male  34.5      0      0   7.8292   NaN        Q\n",
              "1         1       3  female  47.0      1      0   7.0000   NaN        S\n",
              "2         0       2    male  62.0      0      0   9.6875   NaN        Q\n",
              "3         0       3    male  27.0      0      0   8.6625   NaN        S\n",
              "4         1       3  female  22.0      1      1  12.2875   NaN        S"
            ],
            "text/html": [
              "\n",
              "\n",
              "  <div id=\"df-4efa76d6-7772-4230-8014-f0b9ecd56611\">\n",
              "    <div class=\"colab-df-container\">\n",
              "      <div>\n",
              "<style scoped>\n",
              "    .dataframe tbody tr th:only-of-type {\n",
              "        vertical-align: middle;\n",
              "    }\n",
              "\n",
              "    .dataframe tbody tr th {\n",
              "        vertical-align: top;\n",
              "    }\n",
              "\n",
              "    .dataframe thead th {\n",
              "        text-align: right;\n",
              "    }\n",
              "</style>\n",
              "<table border=\"1\" class=\"dataframe\">\n",
              "  <thead>\n",
              "    <tr style=\"text-align: right;\">\n",
              "      <th></th>\n",
              "      <th>Survived</th>\n",
              "      <th>Pclass</th>\n",
              "      <th>Sex</th>\n",
              "      <th>Age</th>\n",
              "      <th>SibSp</th>\n",
              "      <th>Parch</th>\n",
              "      <th>Fare</th>\n",
              "      <th>Cabin</th>\n",
              "      <th>Embarked</th>\n",
              "    </tr>\n",
              "  </thead>\n",
              "  <tbody>\n",
              "    <tr>\n",
              "      <th>0</th>\n",
              "      <td>0</td>\n",
              "      <td>3</td>\n",
              "      <td>male</td>\n",
              "      <td>34.5</td>\n",
              "      <td>0</td>\n",
              "      <td>0</td>\n",
              "      <td>7.8292</td>\n",
              "      <td>NaN</td>\n",
              "      <td>Q</td>\n",
              "    </tr>\n",
              "    <tr>\n",
              "      <th>1</th>\n",
              "      <td>1</td>\n",
              "      <td>3</td>\n",
              "      <td>female</td>\n",
              "      <td>47.0</td>\n",
              "      <td>1</td>\n",
              "      <td>0</td>\n",
              "      <td>7.0000</td>\n",
              "      <td>NaN</td>\n",
              "      <td>S</td>\n",
              "    </tr>\n",
              "    <tr>\n",
              "      <th>2</th>\n",
              "      <td>0</td>\n",
              "      <td>2</td>\n",
              "      <td>male</td>\n",
              "      <td>62.0</td>\n",
              "      <td>0</td>\n",
              "      <td>0</td>\n",
              "      <td>9.6875</td>\n",
              "      <td>NaN</td>\n",
              "      <td>Q</td>\n",
              "    </tr>\n",
              "    <tr>\n",
              "      <th>3</th>\n",
              "      <td>0</td>\n",
              "      <td>3</td>\n",
              "      <td>male</td>\n",
              "      <td>27.0</td>\n",
              "      <td>0</td>\n",
              "      <td>0</td>\n",
              "      <td>8.6625</td>\n",
              "      <td>NaN</td>\n",
              "      <td>S</td>\n",
              "    </tr>\n",
              "    <tr>\n",
              "      <th>4</th>\n",
              "      <td>1</td>\n",
              "      <td>3</td>\n",
              "      <td>female</td>\n",
              "      <td>22.0</td>\n",
              "      <td>1</td>\n",
              "      <td>1</td>\n",
              "      <td>12.2875</td>\n",
              "      <td>NaN</td>\n",
              "      <td>S</td>\n",
              "    </tr>\n",
              "  </tbody>\n",
              "</table>\n",
              "</div>\n",
              "      <button class=\"colab-df-convert\" onclick=\"convertToInteractive('df-4efa76d6-7772-4230-8014-f0b9ecd56611')\"\n",
              "              title=\"Convert this dataframe to an interactive table.\"\n",
              "              style=\"display:none;\">\n",
              "\n",
              "  <svg xmlns=\"http://www.w3.org/2000/svg\" height=\"24px\"viewBox=\"0 0 24 24\"\n",
              "       width=\"24px\">\n",
              "    <path d=\"M0 0h24v24H0V0z\" fill=\"none\"/>\n",
              "    <path d=\"M18.56 5.44l.94 2.06.94-2.06 2.06-.94-2.06-.94-.94-2.06-.94 2.06-2.06.94zm-11 1L8.5 8.5l.94-2.06 2.06-.94-2.06-.94L8.5 2.5l-.94 2.06-2.06.94zm10 10l.94 2.06.94-2.06 2.06-.94-2.06-.94-.94-2.06-.94 2.06-2.06.94z\"/><path d=\"M17.41 7.96l-1.37-1.37c-.4-.4-.92-.59-1.43-.59-.52 0-1.04.2-1.43.59L10.3 9.45l-7.72 7.72c-.78.78-.78 2.05 0 2.83L4 21.41c.39.39.9.59 1.41.59.51 0 1.02-.2 1.41-.59l7.78-7.78 2.81-2.81c.8-.78.8-2.07 0-2.86zM5.41 20L4 18.59l7.72-7.72 1.47 1.35L5.41 20z\"/>\n",
              "  </svg>\n",
              "      </button>\n",
              "\n",
              "\n",
              "\n",
              "    <div id=\"df-e8e938bf-f6ca-47e9-985c-8c5755713a2e\">\n",
              "      <button class=\"colab-df-quickchart\" onclick=\"quickchart('df-e8e938bf-f6ca-47e9-985c-8c5755713a2e')\"\n",
              "              title=\"Suggest charts.\"\n",
              "              style=\"display:none;\">\n",
              "\n",
              "<svg xmlns=\"http://www.w3.org/2000/svg\" height=\"24px\"viewBox=\"0 0 24 24\"\n",
              "     width=\"24px\">\n",
              "    <g>\n",
              "        <path d=\"M19 3H5c-1.1 0-2 .9-2 2v14c0 1.1.9 2 2 2h14c1.1 0 2-.9 2-2V5c0-1.1-.9-2-2-2zM9 17H7v-7h2v7zm4 0h-2V7h2v10zm4 0h-2v-4h2v4z\"/>\n",
              "    </g>\n",
              "</svg>\n",
              "      </button>\n",
              "    </div>\n",
              "\n",
              "<style>\n",
              "  .colab-df-quickchart {\n",
              "    background-color: #E8F0FE;\n",
              "    border: none;\n",
              "    border-radius: 50%;\n",
              "    cursor: pointer;\n",
              "    display: none;\n",
              "    fill: #1967D2;\n",
              "    height: 32px;\n",
              "    padding: 0 0 0 0;\n",
              "    width: 32px;\n",
              "  }\n",
              "\n",
              "  .colab-df-quickchart:hover {\n",
              "    background-color: #E2EBFA;\n",
              "    box-shadow: 0px 1px 2px rgba(60, 64, 67, 0.3), 0px 1px 3px 1px rgba(60, 64, 67, 0.15);\n",
              "    fill: #174EA6;\n",
              "  }\n",
              "\n",
              "  [theme=dark] .colab-df-quickchart {\n",
              "    background-color: #3B4455;\n",
              "    fill: #D2E3FC;\n",
              "  }\n",
              "\n",
              "  [theme=dark] .colab-df-quickchart:hover {\n",
              "    background-color: #434B5C;\n",
              "    box-shadow: 0px 1px 3px 1px rgba(0, 0, 0, 0.15);\n",
              "    filter: drop-shadow(0px 1px 2px rgba(0, 0, 0, 0.3));\n",
              "    fill: #FFFFFF;\n",
              "  }\n",
              "</style>\n",
              "\n",
              "    <script>\n",
              "      async function quickchart(key) {\n",
              "        const containerElement = document.querySelector('#' + key);\n",
              "        const charts = await google.colab.kernel.invokeFunction(\n",
              "            'suggestCharts', [key], {});\n",
              "      }\n",
              "    </script>\n",
              "\n",
              "      <script>\n",
              "\n",
              "function displayQuickchartButton(domScope) {\n",
              "  let quickchartButtonEl =\n",
              "    domScope.querySelector('#df-e8e938bf-f6ca-47e9-985c-8c5755713a2e button.colab-df-quickchart');\n",
              "  quickchartButtonEl.style.display =\n",
              "    google.colab.kernel.accessAllowed ? 'block' : 'none';\n",
              "}\n",
              "\n",
              "        displayQuickchartButton(document);\n",
              "      </script>\n",
              "      <style>\n",
              "    .colab-df-container {\n",
              "      display:flex;\n",
              "      flex-wrap:wrap;\n",
              "      gap: 12px;\n",
              "    }\n",
              "\n",
              "    .colab-df-convert {\n",
              "      background-color: #E8F0FE;\n",
              "      border: none;\n",
              "      border-radius: 50%;\n",
              "      cursor: pointer;\n",
              "      display: none;\n",
              "      fill: #1967D2;\n",
              "      height: 32px;\n",
              "      padding: 0 0 0 0;\n",
              "      width: 32px;\n",
              "    }\n",
              "\n",
              "    .colab-df-convert:hover {\n",
              "      background-color: #E2EBFA;\n",
              "      box-shadow: 0px 1px 2px rgba(60, 64, 67, 0.3), 0px 1px 3px 1px rgba(60, 64, 67, 0.15);\n",
              "      fill: #174EA6;\n",
              "    }\n",
              "\n",
              "    [theme=dark] .colab-df-convert {\n",
              "      background-color: #3B4455;\n",
              "      fill: #D2E3FC;\n",
              "    }\n",
              "\n",
              "    [theme=dark] .colab-df-convert:hover {\n",
              "      background-color: #434B5C;\n",
              "      box-shadow: 0px 1px 3px 1px rgba(0, 0, 0, 0.15);\n",
              "      filter: drop-shadow(0px 1px 2px rgba(0, 0, 0, 0.3));\n",
              "      fill: #FFFFFF;\n",
              "    }\n",
              "  </style>\n",
              "\n",
              "      <script>\n",
              "        const buttonEl =\n",
              "          document.querySelector('#df-4efa76d6-7772-4230-8014-f0b9ecd56611 button.colab-df-convert');\n",
              "        buttonEl.style.display =\n",
              "          google.colab.kernel.accessAllowed ? 'block' : 'none';\n",
              "\n",
              "        async function convertToInteractive(key) {\n",
              "          const element = document.querySelector('#df-4efa76d6-7772-4230-8014-f0b9ecd56611');\n",
              "          const dataTable =\n",
              "            await google.colab.kernel.invokeFunction('convertToInteractive',\n",
              "                                                     [key], {});\n",
              "          if (!dataTable) return;\n",
              "\n",
              "          const docLinkHtml = 'Like what you see? Visit the ' +\n",
              "            '<a target=\"_blank\" href=https://colab.research.google.com/notebooks/data_table.ipynb>data table notebook</a>'\n",
              "            + ' to learn more about interactive tables.';\n",
              "          element.innerHTML = '';\n",
              "          dataTable['output_type'] = 'display_data';\n",
              "          await google.colab.output.renderOutput(dataTable, element);\n",
              "          const docLink = document.createElement('div');\n",
              "          docLink.innerHTML = docLinkHtml;\n",
              "          element.appendChild(docLink);\n",
              "        }\n",
              "      </script>\n",
              "    </div>\n",
              "  </div>\n"
            ]
          },
          "metadata": {},
          "execution_count": 10
        }
      ]
    },
    {
      "cell_type": "code",
      "source": [
        "# shape of the dataset\n",
        "df.shape"
      ],
      "metadata": {
        "colab": {
          "base_uri": "https://localhost:8080/"
        },
        "id": "WUtEsGB55piN",
        "outputId": "969383a4-6db5-4b1d-91f9-bb4008e56f5e"
      },
      "execution_count": 11,
      "outputs": [
        {
          "output_type": "execute_result",
          "data": {
            "text/plain": [
              "(418, 9)"
            ]
          },
          "metadata": {},
          "execution_count": 11
        }
      ]
    },
    {
      "cell_type": "code",
      "source": [
        "df['Sex_Encoded'] = df['Sex'].map({'male' : 0, 'female' : 1})"
      ],
      "metadata": {
        "id": "UpujEMdT5qsM"
      },
      "execution_count": 12,
      "outputs": []
    },
    {
      "cell_type": "markdown",
      "source": [
        "# Data cleaning"
      ],
      "metadata": {
        "id": "3Foi5V9P74kr"
      }
    },
    {
      "cell_type": "code",
      "source": [
        "def show_missing_values(dataframe : pd.DataFrame, is_percentage : bool = False) -> None:\n",
        "  if not is_percentage:\n",
        "    print(dataframe.isnull().sum())\n",
        "  else:\n",
        "    for cols in list(dataframe.columns):\n",
        "      total_nan_values = dataframe[cols].isna().sum()\n",
        "      total_size = dataframe.shape[0]\n",
        "      print(f\"Error percentage in {cols} => {round((total_nan_values / total_size), 2) * 100}%\")"
      ],
      "metadata": {
        "id": "yt-8DkPL9yrc"
      },
      "execution_count": 13,
      "outputs": []
    },
    {
      "cell_type": "code",
      "source": [
        "show_missing_values(df)"
      ],
      "metadata": {
        "colab": {
          "base_uri": "https://localhost:8080/"
        },
        "id": "XKIXIKoV67UX",
        "outputId": "4b30db55-e33e-4a5b-9b75-90d5fc78981f"
      },
      "execution_count": 14,
      "outputs": [
        {
          "output_type": "stream",
          "name": "stdout",
          "text": [
            "Survived         0\n",
            "Pclass           0\n",
            "Sex              0\n",
            "Age             86\n",
            "SibSp            0\n",
            "Parch            0\n",
            "Fare             1\n",
            "Cabin          327\n",
            "Embarked         0\n",
            "Sex_Encoded      0\n",
            "dtype: int64\n"
          ]
        }
      ]
    },
    {
      "cell_type": "code",
      "source": [
        "show_missing_values(df, is_percentage=True)"
      ],
      "metadata": {
        "colab": {
          "base_uri": "https://localhost:8080/"
        },
        "id": "PEBWTIoy55g6",
        "outputId": "b437310d-cde5-49d0-cda3-110a4137b864"
      },
      "execution_count": 15,
      "outputs": [
        {
          "output_type": "stream",
          "name": "stdout",
          "text": [
            "Error percentage in Survived => 0.0%\n",
            "Error percentage in Pclass => 0.0%\n",
            "Error percentage in Sex => 0.0%\n",
            "Error percentage in Age => 21.0%\n",
            "Error percentage in SibSp => 0.0%\n",
            "Error percentage in Parch => 0.0%\n",
            "Error percentage in Fare => 0.0%\n",
            "Error percentage in Cabin => 78.0%\n",
            "Error percentage in Embarked => 0.0%\n",
            "Error percentage in Sex_Encoded => 0.0%\n"
          ]
        }
      ]
    },
    {
      "cell_type": "markdown",
      "source": [
        "**Cabin has highest nan value, so drop the Cabin column**"
      ],
      "metadata": {
        "id": "iz7Ijq-_6r71"
      }
    },
    {
      "cell_type": "code",
      "source": [
        "df.drop(['Cabin'], axis=1, inplace=True)"
      ],
      "metadata": {
        "id": "9bIHpeWz5-zC"
      },
      "execution_count": 16,
      "outputs": []
    },
    {
      "cell_type": "markdown",
      "source": [
        "**Faire column has only one nan value, fill it with mean of the Fare**"
      ],
      "metadata": {
        "id": "mhdrbKc_7A_8"
      }
    },
    {
      "cell_type": "code",
      "source": [
        "df['Fare'] = df['Fare'].fillna(df['Fare'].mean())"
      ],
      "metadata": {
        "id": "icTbZKOm63TE"
      },
      "execution_count": 17,
      "outputs": []
    },
    {
      "cell_type": "markdown",
      "source": [
        "**Age Column has 86 nan values that is 21% of the dataset has nan values in Age Column**"
      ],
      "metadata": {
        "id": "v2N6tkgH7SXJ"
      }
    },
    {
      "cell_type": "code",
      "source": [
        "df['Age'].head()"
      ],
      "metadata": {
        "colab": {
          "base_uri": "https://localhost:8080/"
        },
        "id": "wzoD0zK07PF-",
        "outputId": "b19a32e3-6c9c-4d2e-ea9e-57ac5334e079"
      },
      "execution_count": 18,
      "outputs": [
        {
          "output_type": "execute_result",
          "data": {
            "text/plain": [
              "0    34.5\n",
              "1    47.0\n",
              "2    62.0\n",
              "3    27.0\n",
              "4    22.0\n",
              "Name: Age, dtype: float64"
            ]
          },
          "metadata": {},
          "execution_count": 18
        }
      ]
    },
    {
      "cell_type": "markdown",
      "source": [
        "**Approach Age column in different way, by creating a Logistic Regression model to find the missing values in Age column**"
      ],
      "metadata": {
        "id": "WIeKcI0p7i3I"
      }
    },
    {
      "cell_type": "code",
      "source": [
        "#before predict the missing values\n",
        "\n",
        "sns.histplot(df['Age'])\n",
        "plt.show()"
      ],
      "metadata": {
        "colab": {
          "base_uri": "https://localhost:8080/",
          "height": 458
        },
        "id": "TT3RzaXd7fLw",
        "outputId": "2e0c74bf-4868-47d3-eebb-80d400eab363"
      },
      "execution_count": 19,
      "outputs": [
        {
          "output_type": "display_data",
          "data": {
            "text/plain": [
              "<Figure size 640x480 with 1 Axes>"
            ],
            "image/png": "[encoded data removed]"
          },
          "metadata": {}
        }
      ]
    },
    {
      "cell_type": "markdown",
      "source": [
        "build a missing value predicting model"
      ],
      "metadata": {
        "id": "n8ZAnQ8J9kju"
      }
    },
    {
      "cell_type": "code",
      "source": [
        "from sklearn.linear_model import LinearRegression\n",
        "\n",
        "# Create a subset of the dataset with non-missing age values\n",
        "age_df = df[['Survived', 'Pclass', 'Age', 'Fare']]  # Include relevant features\n",
        "\n",
        "# Split into two subsets: one with missing ages and one without\n",
        "known_age = age_df.loc[age_df['Age'].notna()]\n",
        "unknown_age = age_df.loc[age_df['Age'].isna()]\n",
        "\n",
        "# Create a linear regression model to predict missing ages\n",
        "model = LinearRegression()\n",
        "model.fit(known_age.drop('Age', axis=1), known_age['Age'])\n",
        "predicted_age = model.predict(unknown_age.drop('Age', axis=1))\n",
        "\n",
        "# Fill in the missing age values with the predicted values\n",
        "df.loc[df['Age'].isna(), 'Age'] = predicted_age\n",
        "print(\"Age missing value are filed\")"
      ],
      "metadata": {
        "colab": {
          "base_uri": "https://localhost:8080/"
        },
        "id": "eUkuKcFj8Dx0",
        "outputId": "9c298f96-d8d4-4ae4-f91f-86b592a97cb3"
      },
      "execution_count": 20,
      "outputs": [
        {
          "output_type": "stream",
          "name": "stdout",
          "text": [
            "Age missing value are filed\n"
          ]
        }
      ]
    },
    {
      "cell_type": "code",
      "source": [
        "show_missing_values(df)"
      ],
      "metadata": {
        "colab": {
          "base_uri": "https://localhost:8080/"
        },
        "id": "74_VnMqN-Waj",
        "outputId": "60d100d3-96eb-4c7f-b173-c9c657e9df12"
      },
      "execution_count": 21,
      "outputs": [
        {
          "output_type": "stream",
          "name": "stdout",
          "text": [
            "Survived       0\n",
            "Pclass         0\n",
            "Sex            0\n",
            "Age            0\n",
            "SibSp          0\n",
            "Parch          0\n",
            "Fare           0\n",
            "Embarked       0\n",
            "Sex_Encoded    0\n",
            "dtype: int64\n"
          ]
        }
      ]
    },
    {
      "cell_type": "code",
      "source": [
        "show_missing_values(df, is_percentage=True)"
      ],
      "metadata": {
        "colab": {
          "base_uri": "https://localhost:8080/"
        },
        "id": "GvOLsZan-hUt",
        "outputId": "cc53eafe-d10e-475d-e5cd-8215902c4164"
      },
      "execution_count": 22,
      "outputs": [
        {
          "output_type": "stream",
          "name": "stdout",
          "text": [
            "Error percentage in Survived => 0.0%\n",
            "Error percentage in Pclass => 0.0%\n",
            "Error percentage in Sex => 0.0%\n",
            "Error percentage in Age => 0.0%\n",
            "Error percentage in SibSp => 0.0%\n",
            "Error percentage in Parch => 0.0%\n",
            "Error percentage in Fare => 0.0%\n",
            "Error percentage in Embarked => 0.0%\n",
            "Error percentage in Sex_Encoded => 0.0%\n"
          ]
        }
      ]
    },
    {
      "cell_type": "markdown",
      "source": [
        "**We have completly filled the nan values for the dataset**"
      ],
      "metadata": {
        "id": "fcPAzh_O-krM"
      }
    },
    {
      "cell_type": "markdown",
      "source": [
        "# Exploratory Data Analysis (EDA)"
      ],
      "metadata": {
        "id": "v3eM845V-_3E"
      }
    },
    {
      "cell_type": "code",
      "source": [
        "df.head(5)"
      ],
      "metadata": {
        "colab": {
          "base_uri": "https://localhost:8080/",
          "height": 206
        },
        "id": "Nx9vH09z-ihI",
        "outputId": "70a4cdac-c814-43c7-cda2-587ddd2b8e73"
      },
      "execution_count": 23,
      "outputs": [
        {
          "output_type": "execute_result",
          "data": {
            "text/plain": [
              "   Survived  Pclass     Sex   Age  SibSp  Parch     Fare Embarked  Sex_Encoded\n",
              "0         0       3    male  34.5      0      0   7.8292        Q            0\n",
              "1         1       3  female  47.0      1      0   7.0000        S            1\n",
              "2         0       2    male  62.0      0      0   9.6875        Q            0\n",
              "3         0       3    male  27.0      0      0   8.6625        S            0\n",
              "4         1       3  female  22.0      1      1  12.2875        S            1"
            ],
            "text/html": [
              "\n",
              "\n",
              "  <div id=\"df-370511d9-7445-4bf1-a09e-ce86d9e8b41f\">\n",
              "    <div class=\"colab-df-container\">\n",
              "      <div>\n",
              "<style scoped>\n",
              "    .dataframe tbody tr th:only-of-type {\n",
              "        vertical-align: middle;\n",
              "    }\n",
              "\n",
              "    .dataframe tbody tr th {\n",
              "        vertical-align: top;\n",
              "    }\n",
              "\n",
              "    .dataframe thead th {\n",
              "        text-align: right;\n",
              "    }\n",
              "</style>\n",
              "<table border=\"1\" class=\"dataframe\">\n",
              "  <thead>\n",
              "    <tr style=\"text-align: right;\">\n",
              "      <th></th>\n",
              "      <th>Survived</th>\n",
              "      <th>Pclass</th>\n",
              "      <th>Sex</th>\n",
              "      <th>Age</th>\n",
              "      <th>SibSp</th>\n",
              "      <th>Parch</th>\n",
              "      <th>Fare</th>\n",
              "      <th>Embarked</th>\n",
              "      <th>Sex_Encoded</th>\n",
              "    </tr>\n",
              "  </thead>\n",
              "  <tbody>\n",
              "    <tr>\n",
              "      <th>0</th>\n",
              "      <td>0</td>\n",
              "      <td>3</td>\n",
              "      <td>male</td>\n",
              "      <td>34.5</td>\n",
              "      <td>0</td>\n",
              "      <td>0</td>\n",
              "      <td>7.8292</td>\n",
              "      <td>Q</td>\n",
              "      <td>0</td>\n",
              "    </tr>\n",
              "    <tr>\n",
              "      <th>1</th>\n",
              "      <td>1</td>\n",
              "      <td>3</td>\n",
              "      <td>female</td>\n",
              "      <td>47.0</td>\n",
              "      <td>1</td>\n",
              "      <td>0</td>\n",
              "      <td>7.0000</td>\n",
              "      <td>S</td>\n",
              "      <td>1</td>\n",
              "    </tr>\n",
              "    <tr>\n",
              "      <th>2</th>\n",
              "      <td>0</td>\n",
              "      <td>2</td>\n",
              "      <td>male</td>\n",
              "      <td>62.0</td>\n",
              "      <td>0</td>\n",
              "      <td>0</td>\n",
              "      <td>9.6875</td>\n",
              "      <td>Q</td>\n",
              "      <td>0</td>\n",
              "    </tr>\n",
              "    <tr>\n",
              "      <th>3</th>\n",
              "      <td>0</td>\n",
              "      <td>3</td>\n",
              "      <td>male</td>\n",
              "      <td>27.0</td>\n",
              "      <td>0</td>\n",
              "      <td>0</td>\n",
              "      <td>8.6625</td>\n",
              "      <td>S</td>\n",
              "      <td>0</td>\n",
              "    </tr>\n",
              "    <tr>\n",
              "      <th>4</th>\n",
              "      <td>1</td>\n",
              "      <td>3</td>\n",
              "      <td>female</td>\n",
              "      <td>22.0</td>\n",
              "      <td>1</td>\n",
              "      <td>1</td>\n",
              "      <td>12.2875</td>\n",
              "      <td>S</td>\n",
              "      <td>1</td>\n",
              "    </tr>\n",
              "  </tbody>\n",
              "</table>\n",
              "</div>\n",
              "      <button class=\"colab-df-convert\" onclick=\"convertToInteractive('df-370511d9-7445-4bf1-a09e-ce86d9e8b41f')\"\n",
              "              title=\"Convert this dataframe to an interactive table.\"\n",
              "              style=\"display:none;\">\n",
              "\n",
              "  <svg xmlns=\"http://www.w3.org/2000/svg\" height=\"24px\"viewBox=\"0 0 24 24\"\n",
              "       width=\"24px\">\n",
              "    <path d=\"M0 0h24v24H0V0z\" fill=\"none\"/>\n",
              "    <path d=\"M18.56 5.44l.94 2.06.94-2.06 2.06-.94-2.06-.94-.94-2.06-.94 2.06-2.06.94zm-11 1L8.5 8.5l.94-2.06 2.06-.94-2.06-.94L8.5 2.5l-.94 2.06-2.06.94zm10 10l.94 2.06.94-2.06 2.06-.94-2.06-.94-.94-2.06-.94 2.06-2.06.94z\"/><path d=\"M17.41 7.96l-1.37-1.37c-.4-.4-.92-.59-1.43-.59-.52 0-1.04.2-1.43.59L10.3 9.45l-7.72 7.72c-.78.78-.78 2.05 0 2.83L4 21.41c.39.39.9.59 1.41.59.51 0 1.02-.2 1.41-.59l7.78-7.78 2.81-2.81c.8-.78.8-2.07 0-2.86zM5.41 20L4 18.59l7.72-7.72 1.47 1.35L5.41 20z\"/>\n",
              "  </svg>\n",
              "      </button>\n",
              "\n",
              "\n",
              "\n",
              "    <div id=\"df-af7c4685-d889-42af-9f9e-5f777beb3f8e\">\n",
              "      <button class=\"colab-df-quickchart\" onclick=\"quickchart('df-af7c4685-d889-42af-9f9e-5f777beb3f8e')\"\n",
              "              title=\"Suggest charts.\"\n",
              "              style=\"display:none;\">\n",
              "\n",
              "<svg xmlns=\"http://www.w3.org/2000/svg\" height=\"24px\"viewBox=\"0 0 24 24\"\n",
              "     width=\"24px\">\n",
              "    <g>\n",
              "        <path d=\"M19 3H5c-1.1 0-2 .9-2 2v14c0 1.1.9 2 2 2h14c1.1 0 2-.9 2-2V5c0-1.1-.9-2-2-2zM9 17H7v-7h2v7zm4 0h-2V7h2v10zm4 0h-2v-4h2v4z\"/>\n",
              "    </g>\n",
              "</svg>\n",
              "      </button>\n",
              "    </div>\n",
              "\n",
              "<style>\n",
              "  .colab-df-quickchart {\n",
              "    background-color: #E8F0FE;\n",
              "    border: none;\n",
              "    border-radius: 50%;\n",
              "    cursor: pointer;\n",
              "    display: none;\n",
              "    fill: #1967D2;\n",
              "    height: 32px;\n",
              "    padding: 0 0 0 0;\n",
              "    width: 32px;\n",
              "  }\n",
              "\n",
              "  .colab-df-quickchart:hover {\n",
              "    background-color: #E2EBFA;\n",
              "    box-shadow: 0px 1px 2px rgba(60, 64, 67, 0.3), 0px 1px 3px 1px rgba(60, 64, 67, 0.15);\n",
              "    fill: #174EA6;\n",
              "  }\n",
              "\n",
              "  [theme=dark] .colab-df-quickchart {\n",
              "    background-color: #3B4455;\n",
              "    fill: #D2E3FC;\n",
              "  }\n",
              "\n",
              "  [theme=dark] .colab-df-quickchart:hover {\n",
              "    background-color: #434B5C;\n",
              "    box-shadow: 0px 1px 3px 1px rgba(0, 0, 0, 0.15);\n",
              "    filter: drop-shadow(0px 1px 2px rgba(0, 0, 0, 0.3));\n",
              "    fill: #FFFFFF;\n",
              "  }\n",
              "</style>\n",
              "\n",
              "    <script>\n",
              "      async function quickchart(key) {\n",
              "        const containerElement = document.querySelector('#' + key);\n",
              "        const charts = await google.colab.kernel.invokeFunction(\n",
              "            'suggestCharts', [key], {});\n",
              "      }\n",
              "    </script>\n",
              "\n",
              "      <script>\n",
              "\n",
              "function displayQuickchartButton(domScope) {\n",
              "  let quickchartButtonEl =\n",
              "    domScope.querySelector('#df-af7c4685-d889-42af-9f9e-5f777beb3f8e button.colab-df-quickchart');\n",
              "  quickchartButtonEl.style.display =\n",
              "    google.colab.kernel.accessAllowed ? 'block' : 'none';\n",
              "}\n",
              "\n",
              "        displayQuickchartButton(document);\n",
              "      </script>\n",
              "      <style>\n",
              "    .colab-df-container {\n",
              "      display:flex;\n",
              "      flex-wrap:wrap;\n",
              "      gap: 12px;\n",
              "    }\n",
              "\n",
              "    .colab-df-convert {\n",
              "      background-color: #E8F0FE;\n",
              "      border: none;\n",
              "      border-radius: 50%;\n",
              "      cursor: pointer;\n",
              "      display: none;\n",
              "      fill: #1967D2;\n",
              "      height: 32px;\n",
              "      padding: 0 0 0 0;\n",
              "      width: 32px;\n",
              "    }\n",
              "\n",
              "    .colab-df-convert:hover {\n",
              "      background-color: #E2EBFA;\n",
              "      box-shadow: 0px 1px 2px rgba(60, 64, 67, 0.3), 0px 1px 3px 1px rgba(60, 64, 67, 0.15);\n",
              "      fill: #174EA6;\n",
              "    }\n",
              "\n",
              "    [theme=dark] .colab-df-convert {\n",
              "      background-color: #3B4455;\n",
              "      fill: #D2E3FC;\n",
              "    }\n",
              "\n",
              "    [theme=dark] .colab-df-convert:hover {\n",
              "      background-color: #434B5C;\n",
              "      box-shadow: 0px 1px 3px 1px rgba(0, 0, 0, 0.15);\n",
              "      filter: drop-shadow(0px 1px 2px rgba(0, 0, 0, 0.3));\n",
              "      fill: #FFFFFF;\n",
              "    }\n",
              "  </style>\n",
              "\n",
              "      <script>\n",
              "        const buttonEl =\n",
              "          document.querySelector('#df-370511d9-7445-4bf1-a09e-ce86d9e8b41f button.colab-df-convert');\n",
              "        buttonEl.style.display =\n",
              "          google.colab.kernel.accessAllowed ? 'block' : 'none';\n",
              "\n",
              "        async function convertToInteractive(key) {\n",
              "          const element = document.querySelector('#df-370511d9-7445-4bf1-a09e-ce86d9e8b41f');\n",
              "          const dataTable =\n",
              "            await google.colab.kernel.invokeFunction('convertToInteractive',\n",
              "                                                     [key], {});\n",
              "          if (!dataTable) return;\n",
              "\n",
              "          const docLinkHtml = 'Like what you see? Visit the ' +\n",
              "            '<a target=\"_blank\" href=https://colab.research.google.com/notebooks/data_table.ipynb>data table notebook</a>'\n",
              "            + ' to learn more about interactive tables.';\n",
              "          element.innerHTML = '';\n",
              "          dataTable['output_type'] = 'display_data';\n",
              "          await google.colab.output.renderOutput(dataTable, element);\n",
              "          const docLink = document.createElement('div');\n",
              "          docLink.innerHTML = docLinkHtml;\n",
              "          element.appendChild(docLink);\n",
              "        }\n",
              "      </script>\n",
              "    </div>\n",
              "  </div>\n"
            ]
          },
          "metadata": {},
          "execution_count": 23
        }
      ]
    },
    {
      "cell_type": "markdown",
      "source": [
        "The Survived column indicates whether the passenger survived (value 1) or not (value 0) in the dataset."
      ],
      "metadata": {
        "id": "ep063lGe_Nrn"
      }
    },
    {
      "cell_type": "code",
      "source": [
        "# Calculate the average of \"Survived\"\n",
        "survived_average = df[\"Survived\"].mean()\n",
        "\n",
        "# Print the average\n",
        "print(f\"Average of Survived: {round(survived_average*100, 2)}%\")"
      ],
      "metadata": {
        "colab": {
          "base_uri": "https://localhost:8080/"
        },
        "id": "mwGGvWkK_Esg",
        "outputId": "15bf2cde-ed68-4da8-a0cd-ca92e712fed7"
      },
      "execution_count": 24,
      "outputs": [
        {
          "output_type": "stream",
          "name": "stdout",
          "text": [
            "Average of Survived: 36.36%\n"
          ]
        }
      ]
    },
    {
      "cell_type": "markdown",
      "source": [
        "**The survival rate of the Titanic dataset is approximately 35%, majority of the people will not survied**"
      ],
      "metadata": {
        "id": "emuCB59W_cxj"
      }
    },
    {
      "cell_type": "markdown",
      "source": [
        "**Now finding the relationship between the Survied column and other columns**"
      ],
      "metadata": {
        "id": "62GiwatMAEuK"
      }
    },
    {
      "cell_type": "code",
      "source": [
        "# Select the desired columns for correlation analysis\n",
        "selected_columns = ['Pclass', 'Sex_Encoded', 'Age', 'Fare']\n",
        "subset_df = df[selected_columns + ['Survived']]\n",
        "\n",
        "# Compute the correlation matrix\n",
        "corr_matrix = subset_df.corr()\n",
        "print(corr_matrix.Survived)\n",
        "\n",
        "# Create a heatmap using the correlation matrix\n",
        "plt.figure(figsize=(8, 5))\n",
        "sns.heatmap(corr_matrix, cbar=True, fmt='.2f', annot=True, annot_kws={'size':10}, cmap='coolwarm')\n",
        "\n",
        "# Set the title of the plot\n",
        "plt.title('Correlation Heatmap')\n",
        "\n",
        "# Display the plot\n",
        "plt.show()"
      ],
      "metadata": {
        "colab": {
          "base_uri": "https://localhost:8080/",
          "height": 577
        },
        "id": "NLSRdDEM_TTG",
        "outputId": "df0dbd62-fc43-4cf7-ecf4-377ab7a82997"
      },
      "execution_count": 25,
      "outputs": [
        {
          "output_type": "stream",
          "name": "stdout",
          "text": [
            "Pclass        -0.108615\n",
            "Sex_Encoded    1.000000\n",
            "Age           -0.006750\n",
            "Fare           0.191382\n",
            "Survived       1.000000\n",
            "Name: Survived, dtype: float64\n"
          ]
        },
        {
          "output_type": "display_data",
          "data": {
            "text/plain": [
              "<Figure size 800x500 with 2 Axes>"
            ],
            "image/png": "[encoded data removed]"
          },
          "metadata": {}
        }
      ]
    },
    {
      "cell_type": "markdown",
      "source": [
        "**Relationship between Survived and Sex_Encoded Column**"
      ],
      "metadata": {
        "id": "FlUmFvYICRFt"
      }
    },
    {
      "cell_type": "code",
      "source": [
        "# Scatter plot\n",
        "plt.scatter(df['Sex_Encoded'], df['Survived'])\n",
        "\n",
        "# Trend line\n",
        "z = np.polyfit(df['Sex_Encoded'], df['Survived'], 1)\n",
        "p = np.poly1d(z)\n",
        "plt.plot(df['Sex_Encoded'], p(df['Sex_Encoded']), \"r--\")\n",
        "\n",
        "# Plot labels\n",
        "plt.xlabel('Sex_Encoded')\n",
        "plt.ylabel('Survived')\n",
        "\n",
        "# Plot title\n",
        "plt.title('Scatter Plot: Survived vs Sex_Encoded')\n",
        "plt.yticks([0, 1], ['No', 'Yes'])\n",
        "plt.xticks([0, 1], ['Male', 'Female'])\n",
        "# Show the plot\n",
        "\n",
        "plt.show()"
      ],
      "metadata": {
        "colab": {
          "base_uri": "https://localhost:8080/",
          "height": 480
        },
        "id": "l_rpB85SBRKS",
        "outputId": "c33ab6c9-c41a-4a06-e5e8-41f53170a949"
      },
      "execution_count": 26,
      "outputs": [
        {
          "output_type": "display_data",
          "data": {
            "text/plain": [
              "<Figure size 640x480 with 1 Axes>"
            ],
            "image/png": "[encoded data removed]"
          },
          "metadata": {}
        }
      ]
    },
    {
      "cell_type": "markdown",
      "source": [
        "The variable ***'Sex_Encoded'*** is strongly positively correlated with the ***dependent column ('Survived')***. The representation indicates that the being classified as ***male(sex_encoded=0)*** has ***lower chance of Survived*** while being classified as ***femal(sex_encode=1)*** has ***Higher chance of Survival***\n",
        "\n",
        "---\n",
        "\n",
        "So, The Titatnic Survival Dataset gives High importance to the ***Gender***\n",
        "\n",
        "\n",
        "\n"
      ],
      "metadata": {
        "id": "ypPoxd6qCvso"
      }
    },
    {
      "cell_type": "code",
      "source": [
        "df.head()"
      ],
      "metadata": {
        "colab": {
          "base_uri": "https://localhost:8080/",
          "height": 206
        },
        "id": "ZSeV53N_FBpx",
        "outputId": "5295a8da-d633-4983-a296-7185fa1879a8"
      },
      "execution_count": 27,
      "outputs": [
        {
          "output_type": "execute_result",
          "data": {
            "text/plain": [
              "   Survived  Pclass     Sex   Age  SibSp  Parch     Fare Embarked  Sex_Encoded\n",
              "0         0       3    male  34.5      0      0   7.8292        Q            0\n",
              "1         1       3  female  47.0      1      0   7.0000        S            1\n",
              "2         0       2    male  62.0      0      0   9.6875        Q            0\n",
              "3         0       3    male  27.0      0      0   8.6625        S            0\n",
              "4         1       3  female  22.0      1      1  12.2875        S            1"
            ],
            "text/html": [
              "\n",
              "\n",
              "  <div id=\"df-c8cdccd1-b209-486d-89ce-0f783add75eb\">\n",
              "    <div class=\"colab-df-container\">\n",
              "      <div>\n",
              "<style scoped>\n",
              "    .dataframe tbody tr th:only-of-type {\n",
              "        vertical-align: middle;\n",
              "    }\n",
              "\n",
              "    .dataframe tbody tr th {\n",
              "        vertical-align: top;\n",
              "    }\n",
              "\n",
              "    .dataframe thead th {\n",
              "        text-align: right;\n",
              "    }\n",
              "</style>\n",
              "<table border=\"1\" class=\"dataframe\">\n",
              "  <thead>\n",
              "    <tr style=\"text-align: right;\">\n",
              "      <th></th>\n",
              "      <th>Survived</th>\n",
              "      <th>Pclass</th>\n",
              "      <th>Sex</th>\n",
              "      <th>Age</th>\n",
              "      <th>SibSp</th>\n",
              "      <th>Parch</th>\n",
              "      <th>Fare</th>\n",
              "      <th>Embarked</th>\n",
              "      <th>Sex_Encoded</th>\n",
              "    </tr>\n",
              "  </thead>\n",
              "  <tbody>\n",
              "    <tr>\n",
              "      <th>0</th>\n",
              "      <td>0</td>\n",
              "      <td>3</td>\n",
              "      <td>male</td>\n",
              "      <td>34.5</td>\n",
              "      <td>0</td>\n",
              "      <td>0</td>\n",
              "      <td>7.8292</td>\n",
              "      <td>Q</td>\n",
              "      <td>0</td>\n",
              "    </tr>\n",
              "    <tr>\n",
              "      <th>1</th>\n",
              "      <td>1</td>\n",
              "      <td>3</td>\n",
              "      <td>female</td>\n",
              "      <td>47.0</td>\n",
              "      <td>1</td>\n",
              "      <td>0</td>\n",
              "      <td>7.0000</td>\n",
              "      <td>S</td>\n",
              "      <td>1</td>\n",
              "    </tr>\n",
              "    <tr>\n",
              "      <th>2</th>\n",
              "      <td>0</td>\n",
              "      <td>2</td>\n",
              "      <td>male</td>\n",
              "      <td>62.0</td>\n",
              "      <td>0</td>\n",
              "      <td>0</td>\n",
              "      <td>9.6875</td>\n",
              "      <td>Q</td>\n",
              "      <td>0</td>\n",
              "    </tr>\n",
              "    <tr>\n",
              "      <th>3</th>\n",
              "      <td>0</td>\n",
              "      <td>3</td>\n",
              "      <td>male</td>\n",
              "      <td>27.0</td>\n",
              "      <td>0</td>\n",
              "      <td>0</td>\n",
              "      <td>8.6625</td>\n",
              "      <td>S</td>\n",
              "      <td>0</td>\n",
              "    </tr>\n",
              "    <tr>\n",
              "      <th>4</th>\n",
              "      <td>1</td>\n",
              "      <td>3</td>\n",
              "      <td>female</td>\n",
              "      <td>22.0</td>\n",
              "      <td>1</td>\n",
              "      <td>1</td>\n",
              "      <td>12.2875</td>\n",
              "      <td>S</td>\n",
              "      <td>1</td>\n",
              "    </tr>\n",
              "  </tbody>\n",
              "</table>\n",
              "</div>\n",
              "      <button class=\"colab-df-convert\" onclick=\"convertToInteractive('df-c8cdccd1-b209-486d-89ce-0f783add75eb')\"\n",
              "              title=\"Convert this dataframe to an interactive table.\"\n",
              "              style=\"display:none;\">\n",
              "\n",
              "  <svg xmlns=\"http://www.w3.org/2000/svg\" height=\"24px\"viewBox=\"0 0 24 24\"\n",
              "       width=\"24px\">\n",
              "    <path d=\"M0 0h24v24H0V0z\" fill=\"none\"/>\n",
              "    <path d=\"M18.56 5.44l.94 2.06.94-2.06 2.06-.94-2.06-.94-.94-2.06-.94 2.06-2.06.94zm-11 1L8.5 8.5l.94-2.06 2.06-.94-2.06-.94L8.5 2.5l-.94 2.06-2.06.94zm10 10l.94 2.06.94-2.06 2.06-.94-2.06-.94-.94-2.06-.94 2.06-2.06.94z\"/><path d=\"M17.41 7.96l-1.37-1.37c-.4-.4-.92-.59-1.43-.59-.52 0-1.04.2-1.43.59L10.3 9.45l-7.72 7.72c-.78.78-.78 2.05 0 2.83L4 21.41c.39.39.9.59 1.41.59.51 0 1.02-.2 1.41-.59l7.78-7.78 2.81-2.81c.8-.78.8-2.07 0-2.86zM5.41 20L4 18.59l7.72-7.72 1.47 1.35L5.41 20z\"/>\n",
              "  </svg>\n",
              "      </button>\n",
              "\n",
              "\n",
              "\n",
              "    <div id=\"df-f6d1f3f0-a8a9-4e9d-8fc0-a937837bd014\">\n",
              "      <button class=\"colab-df-quickchart\" onclick=\"quickchart('df-f6d1f3f0-a8a9-4e9d-8fc0-a937837bd014')\"\n",
              "              title=\"Suggest charts.\"\n",
              "              style=\"display:none;\">\n",
              "\n",
              "<svg xmlns=\"http://www.w3.org/2000/svg\" height=\"24px\"viewBox=\"0 0 24 24\"\n",
              "     width=\"24px\">\n",
              "    <g>\n",
              "        <path d=\"M19 3H5c-1.1 0-2 .9-2 2v14c0 1.1.9 2 2 2h14c1.1 0 2-.9 2-2V5c0-1.1-.9-2-2-2zM9 17H7v-7h2v7zm4 0h-2V7h2v10zm4 0h-2v-4h2v4z\"/>\n",
              "    </g>\n",
              "</svg>\n",
              "      </button>\n",
              "    </div>\n",
              "\n",
              "<style>\n",
              "  .colab-df-quickchart {\n",
              "    background-color: #E8F0FE;\n",
              "    border: none;\n",
              "    border-radius: 50%;\n",
              "    cursor: pointer;\n",
              "    display: none;\n",
              "    fill: #1967D2;\n",
              "    height: 32px;\n",
              "    padding: 0 0 0 0;\n",
              "    width: 32px;\n",
              "  }\n",
              "\n",
              "  .colab-df-quickchart:hover {\n",
              "    background-color: #E2EBFA;\n",
              "    box-shadow: 0px 1px 2px rgba(60, 64, 67, 0.3), 0px 1px 3px 1px rgba(60, 64, 67, 0.15);\n",
              "    fill: #174EA6;\n",
              "  }\n",
              "\n",
              "  [theme=dark] .colab-df-quickchart {\n",
              "    background-color: #3B4455;\n",
              "    fill: #D2E3FC;\n",
              "  }\n",
              "\n",
              "  [theme=dark] .colab-df-quickchart:hover {\n",
              "    background-color: #434B5C;\n",
              "    box-shadow: 0px 1px 3px 1px rgba(0, 0, 0, 0.15);\n",
              "    filter: drop-shadow(0px 1px 2px rgba(0, 0, 0, 0.3));\n",
              "    fill: #FFFFFF;\n",
              "  }\n",
              "</style>\n",
              "\n",
              "    <script>\n",
              "      async function quickchart(key) {\n",
              "        const containerElement = document.querySelector('#' + key);\n",
              "        const charts = await google.colab.kernel.invokeFunction(\n",
              "            'suggestCharts', [key], {});\n",
              "      }\n",
              "    </script>\n",
              "\n",
              "      <script>\n",
              "\n",
              "function displayQuickchartButton(domScope) {\n",
              "  let quickchartButtonEl =\n",
              "    domScope.querySelector('#df-f6d1f3f0-a8a9-4e9d-8fc0-a937837bd014 button.colab-df-quickchart');\n",
              "  quickchartButtonEl.style.display =\n",
              "    google.colab.kernel.accessAllowed ? 'block' : 'none';\n",
              "}\n",
              "\n",
              "        displayQuickchartButton(document);\n",
              "      </script>\n",
              "      <style>\n",
              "    .colab-df-container {\n",
              "      display:flex;\n",
              "      flex-wrap:wrap;\n",
              "      gap: 12px;\n",
              "    }\n",
              "\n",
              "    .colab-df-convert {\n",
              "      background-color: #E8F0FE;\n",
              "      border: none;\n",
              "      border-radius: 50%;\n",
              "      cursor: pointer;\n",
              "      display: none;\n",
              "      fill: #1967D2;\n",
              "      height: 32px;\n",
              "      padding: 0 0 0 0;\n",
              "      width: 32px;\n",
              "    }\n",
              "\n",
              "    .colab-df-convert:hover {\n",
              "      background-color: #E2EBFA;\n",
              "      box-shadow: 0px 1px 2px rgba(60, 64, 67, 0.3), 0px 1px 3px 1px rgba(60, 64, 67, 0.15);\n",
              "      fill: #174EA6;\n",
              "    }\n",
              "\n",
              "    [theme=dark] .colab-df-convert {\n",
              "      background-color: #3B4455;\n",
              "      fill: #D2E3FC;\n",
              "    }\n",
              "\n",
              "    [theme=dark] .colab-df-convert:hover {\n",
              "      background-color: #434B5C;\n",
              "      box-shadow: 0px 1px 3px 1px rgba(0, 0, 0, 0.15);\n",
              "      filter: drop-shadow(0px 1px 2px rgba(0, 0, 0, 0.3));\n",
              "      fill: #FFFFFF;\n",
              "    }\n",
              "  </style>\n",
              "\n",
              "      <script>\n",
              "        const buttonEl =\n",
              "          document.querySelector('#df-c8cdccd1-b209-486d-89ce-0f783add75eb button.colab-df-convert');\n",
              "        buttonEl.style.display =\n",
              "          google.colab.kernel.accessAllowed ? 'block' : 'none';\n",
              "\n",
              "        async function convertToInteractive(key) {\n",
              "          const element = document.querySelector('#df-c8cdccd1-b209-486d-89ce-0f783add75eb');\n",
              "          const dataTable =\n",
              "            await google.colab.kernel.invokeFunction('convertToInteractive',\n",
              "                                                     [key], {});\n",
              "          if (!dataTable) return;\n",
              "\n",
              "          const docLinkHtml = 'Like what you see? Visit the ' +\n",
              "            '<a target=\"_blank\" href=https://colab.research.google.com/notebooks/data_table.ipynb>data table notebook</a>'\n",
              "            + ' to learn more about interactive tables.';\n",
              "          element.innerHTML = '';\n",
              "          dataTable['output_type'] = 'display_data';\n",
              "          await google.colab.output.renderOutput(dataTable, element);\n",
              "          const docLink = document.createElement('div');\n",
              "          docLink.innerHTML = docLinkHtml;\n",
              "          element.appendChild(docLink);\n",
              "        }\n",
              "      </script>\n",
              "    </div>\n",
              "  </div>\n"
            ]
          },
          "metadata": {},
          "execution_count": 27
        }
      ]
    },
    {
      "cell_type": "markdown",
      "source": [
        "Survived with Age column\n",
        "\n"
      ],
      "metadata": {
        "id": "FQ5gAXu4RbcQ"
      }
    },
    {
      "cell_type": "code",
      "source": [
        "fig, axx = plt.subplots(2, 2, figsize=(20,10))\n",
        "\n",
        "sns.regplot(x='Age', y='Survived', data=df, scatter=True, ax=axx[0][0])\n",
        "\n",
        "sns.regplot(x='Pclass', y='Survived', data=df, scatter=True, ax=axx[0][1])\n",
        "\n",
        "df['Embarked_Encoded']  = df['Embarked'].map({\"Q\":0, \"S\":1, \"C\":2})\n",
        "\n",
        "sns.regplot(x='Embarked_Encoded', y='Survived', data=df, scatter=True, ax=axx[1][0])\n",
        "df.drop(['Embarked_Encoded'], axis=1, inplace=True)\n",
        "\n",
        "sns.regplot(x='Fare', y='Survived', data=df, scatter=True, ax=axx[1][1])\n",
        "\n",
        "\n",
        "plt.show()"
      ],
      "metadata": {
        "colab": {
          "base_uri": "https://localhost:8080/",
          "height": 592
        },
        "id": "JfCyoRw0Q1uU",
        "outputId": "ff9dd9e6-a2f8-4aec-fe9b-0509d1afb4ec"
      },
      "execution_count": 28,
      "outputs": [
        {
          "output_type": "display_data",
          "data": {
            "text/plain": [
              "<Figure size 2000x1000 with 4 Axes>"
            ],
            "image/png": "[encoded data removed]"
          },
          "metadata": {}
        }
      ]
    },
    {
      "cell_type": "markdown",
      "source": [
        "**Pclass (1) has a high survival rate**"
      ],
      "metadata": {
        "id": "ErTO-u0eRj7q"
      }
    },
    {
      "cell_type": "code",
      "source": [
        "sns.set(style=\"darkgrid\")\n",
        "sns.countplot( x='Survived', data=df, hue=\"Embarked\", palette=\"Set1\");"
      ],
      "metadata": {
        "colab": {
          "base_uri": "https://localhost:8080/",
          "height": 458
        },
        "id": "Dl_P8vCUSHNW",
        "outputId": "20a883e4-9dbf-47d3-f05a-b6e01cb06dab"
      },
      "execution_count": 29,
      "outputs": [
        {
          "output_type": "display_data",
          "data": {
            "text/plain": [
              "<Figure size 640x480 with 1 Axes>"
            ],
            "image/png": "[encoded data removed]"
          },
          "metadata": {}
        }
      ]
    },
    {
      "cell_type": "code",
      "source": [],
      "metadata": {
        "id": "400MiR8sSHJ1"
      },
      "execution_count": 29,
      "outputs": []
    },
    {
      "cell_type": "code",
      "source": [],
      "metadata": {
        "id": "mS5XdQ-JFBmT"
      },
      "execution_count": 29,
      "outputs": []
    },
    {
      "cell_type": "markdown",
      "source": [
        "### Removing Outliers"
      ],
      "metadata": {
        "id": "wyUPW3nIFBHu"
      }
    },
    {
      "cell_type": "code",
      "source": [
        "df.head()"
      ],
      "metadata": {
        "colab": {
          "base_uri": "https://localhost:8080/",
          "height": 206
        },
        "id": "moDTfXD7CfF5",
        "outputId": "b01a9ff1-78ca-436f-9250-bdeb463c5c01"
      },
      "execution_count": 30,
      "outputs": [
        {
          "output_type": "execute_result",
          "data": {
            "text/plain": [
              "   Survived  Pclass     Sex   Age  SibSp  Parch     Fare Embarked  Sex_Encoded\n",
              "0         0       3    male  34.5      0      0   7.8292        Q            0\n",
              "1         1       3  female  47.0      1      0   7.0000        S            1\n",
              "2         0       2    male  62.0      0      0   9.6875        Q            0\n",
              "3         0       3    male  27.0      0      0   8.6625        S            0\n",
              "4         1       3  female  22.0      1      1  12.2875        S            1"
            ],
            "text/html": [
              "\n",
              "\n",
              "  <div id=\"df-7b86dfa4-8ba1-43f7-a97d-5414e860815d\">\n",
              "    <div class=\"colab-df-container\">\n",
              "      <div>\n",
              "<style scoped>\n",
              "    .dataframe tbody tr th:only-of-type {\n",
              "        vertical-align: middle;\n",
              "    }\n",
              "\n",
              "    .dataframe tbody tr th {\n",
              "        vertical-align: top;\n",
              "    }\n",
              "\n",
              "    .dataframe thead th {\n",
              "        text-align: right;\n",
              "    }\n",
              "</style>\n",
              "<table border=\"1\" class=\"dataframe\">\n",
              "  <thead>\n",
              "    <tr style=\"text-align: right;\">\n",
              "      <th></th>\n",
              "      <th>Survived</th>\n",
              "      <th>Pclass</th>\n",
              "      <th>Sex</th>\n",
              "      <th>Age</th>\n",
              "      <th>SibSp</th>\n",
              "      <th>Parch</th>\n",
              "      <th>Fare</th>\n",
              "      <th>Embarked</th>\n",
              "      <th>Sex_Encoded</th>\n",
              "    </tr>\n",
              "  </thead>\n",
              "  <tbody>\n",
              "    <tr>\n",
              "      <th>0</th>\n",
              "      <td>0</td>\n",
              "      <td>3</td>\n",
              "      <td>male</td>\n",
              "      <td>34.5</td>\n",
              "      <td>0</td>\n",
              "      <td>0</td>\n",
              "      <td>7.8292</td>\n",
              "      <td>Q</td>\n",
              "      <td>0</td>\n",
              "    </tr>\n",
              "    <tr>\n",
              "      <th>1</th>\n",
              "      <td>1</td>\n",
              "      <td>3</td>\n",
              "      <td>female</td>\n",
              "      <td>47.0</td>\n",
              "      <td>1</td>\n",
              "      <td>0</td>\n",
              "      <td>7.0000</td>\n",
              "      <td>S</td>\n",
              "      <td>1</td>\n",
              "    </tr>\n",
              "    <tr>\n",
              "      <th>2</th>\n",
              "      <td>0</td>\n",
              "      <td>2</td>\n",
              "      <td>male</td>\n",
              "      <td>62.0</td>\n",
              "      <td>0</td>\n",
              "      <td>0</td>\n",
              "      <td>9.6875</td>\n",
              "      <td>Q</td>\n",
              "      <td>0</td>\n",
              "    </tr>\n",
              "    <tr>\n",
              "      <th>3</th>\n",
              "      <td>0</td>\n",
              "      <td>3</td>\n",
              "      <td>male</td>\n",
              "      <td>27.0</td>\n",
              "      <td>0</td>\n",
              "      <td>0</td>\n",
              "      <td>8.6625</td>\n",
              "      <td>S</td>\n",
              "      <td>0</td>\n",
              "    </tr>\n",
              "    <tr>\n",
              "      <th>4</th>\n",
              "      <td>1</td>\n",
              "      <td>3</td>\n",
              "      <td>female</td>\n",
              "      <td>22.0</td>\n",
              "      <td>1</td>\n",
              "      <td>1</td>\n",
              "      <td>12.2875</td>\n",
              "      <td>S</td>\n",
              "      <td>1</td>\n",
              "    </tr>\n",
              "  </tbody>\n",
              "</table>\n",
              "</div>\n",
              "      <button class=\"colab-df-convert\" onclick=\"convertToInteractive('df-7b86dfa4-8ba1-43f7-a97d-5414e860815d')\"\n",
              "              title=\"Convert this dataframe to an interactive table.\"\n",
              "              style=\"display:none;\">\n",
              "\n",
              "  <svg xmlns=\"http://www.w3.org/2000/svg\" height=\"24px\"viewBox=\"0 0 24 24\"\n",
              "       width=\"24px\">\n",
              "    <path d=\"M0 0h24v24H0V0z\" fill=\"none\"/>\n",
              "    <path d=\"M18.56 5.44l.94 2.06.94-2.06 2.06-.94-2.06-.94-.94-2.06-.94 2.06-2.06.94zm-11 1L8.5 8.5l.94-2.06 2.06-.94-2.06-.94L8.5 2.5l-.94 2.06-2.06.94zm10 10l.94 2.06.94-2.06 2.06-.94-2.06-.94-.94-2.06-.94 2.06-2.06.94z\"/><path d=\"M17.41 7.96l-1.37-1.37c-.4-.4-.92-.59-1.43-.59-.52 0-1.04.2-1.43.59L10.3 9.45l-7.72 7.72c-.78.78-.78 2.05 0 2.83L4 21.41c.39.39.9.59 1.41.59.51 0 1.02-.2 1.41-.59l7.78-7.78 2.81-2.81c.8-.78.8-2.07 0-2.86zM5.41 20L4 18.59l7.72-7.72 1.47 1.35L5.41 20z\"/>\n",
              "  </svg>\n",
              "      </button>\n",
              "\n",
              "\n",
              "\n",
              "    <div id=\"df-d01b024e-c411-4175-b8ed-9dd8dbe7a265\">\n",
              "      <button class=\"colab-df-quickchart\" onclick=\"quickchart('df-d01b024e-c411-4175-b8ed-9dd8dbe7a265')\"\n",
              "              title=\"Suggest charts.\"\n",
              "              style=\"display:none;\">\n",
              "\n",
              "<svg xmlns=\"http://www.w3.org/2000/svg\" height=\"24px\"viewBox=\"0 0 24 24\"\n",
              "     width=\"24px\">\n",
              "    <g>\n",
              "        <path d=\"M19 3H5c-1.1 0-2 .9-2 2v14c0 1.1.9 2 2 2h14c1.1 0 2-.9 2-2V5c0-1.1-.9-2-2-2zM9 17H7v-7h2v7zm4 0h-2V7h2v10zm4 0h-2v-4h2v4z\"/>\n",
              "    </g>\n",
              "</svg>\n",
              "      </button>\n",
              "    </div>\n",
              "\n",
              "<style>\n",
              "  .colab-df-quickchart {\n",
              "    background-color: #E8F0FE;\n",
              "    border: none;\n",
              "    border-radius: 50%;\n",
              "    cursor: pointer;\n",
              "    display: none;\n",
              "    fill: #1967D2;\n",
              "    height: 32px;\n",
              "    padding: 0 0 0 0;\n",
              "    width: 32px;\n",
              "  }\n",
              "\n",
              "  .colab-df-quickchart:hover {\n",
              "    background-color: #E2EBFA;\n",
              "    box-shadow: 0px 1px 2px rgba(60, 64, 67, 0.3), 0px 1px 3px 1px rgba(60, 64, 67, 0.15);\n",
              "    fill: #174EA6;\n",
              "  }\n",
              "\n",
              "  [theme=dark] .colab-df-quickchart {\n",
              "    background-color: #3B4455;\n",
              "    fill: #D2E3FC;\n",
              "  }\n",
              "\n",
              "  [theme=dark] .colab-df-quickchart:hover {\n",
              "    background-color: #434B5C;\n",
              "    box-shadow: 0px 1px 3px 1px rgba(0, 0, 0, 0.15);\n",
              "    filter: drop-shadow(0px 1px 2px rgba(0, 0, 0, 0.3));\n",
              "    fill: #FFFFFF;\n",
              "  }\n",
              "</style>\n",
              "\n",
              "    <script>\n",
              "      async function quickchart(key) {\n",
              "        const containerElement = document.querySelector('#' + key);\n",
              "        const charts = await google.colab.kernel.invokeFunction(\n",
              "            'suggestCharts', [key], {});\n",
              "      }\n",
              "    </script>\n",
              "\n",
              "      <script>\n",
              "\n",
              "function displayQuickchartButton(domScope) {\n",
              "  let quickchartButtonEl =\n",
              "    domScope.querySelector('#df-d01b024e-c411-4175-b8ed-9dd8dbe7a265 button.colab-df-quickchart');\n",
              "  quickchartButtonEl.style.display =\n",
              "    google.colab.kernel.accessAllowed ? 'block' : 'none';\n",
              "}\n",
              "\n",
              "        displayQuickchartButton(document);\n",
              "      </script>\n",
              "      <style>\n",
              "    .colab-df-container {\n",
              "      display:flex;\n",
              "      flex-wrap:wrap;\n",
              "      gap: 12px;\n",
              "    }\n",
              "\n",
              "    .colab-df-convert {\n",
              "      background-color: #E8F0FE;\n",
              "      border: none;\n",
              "      border-radius: 50%;\n",
              "      cursor: pointer;\n",
              "      display: none;\n",
              "      fill: #1967D2;\n",
              "      height: 32px;\n",
              "      padding: 0 0 0 0;\n",
              "      width: 32px;\n",
              "    }\n",
              "\n",
              "    .colab-df-convert:hover {\n",
              "      background-color: #E2EBFA;\n",
              "      box-shadow: 0px 1px 2px rgba(60, 64, 67, 0.3), 0px 1px 3px 1px rgba(60, 64, 67, 0.15);\n",
              "      fill: #174EA6;\n",
              "    }\n",
              "\n",
              "    [theme=dark] .colab-df-convert {\n",
              "      background-color: #3B4455;\n",
              "      fill: #D2E3FC;\n",
              "    }\n",
              "\n",
              "    [theme=dark] .colab-df-convert:hover {\n",
              "      background-color: #434B5C;\n",
              "      box-shadow: 0px 1px 3px 1px rgba(0, 0, 0, 0.15);\n",
              "      filter: drop-shadow(0px 1px 2px rgba(0, 0, 0, 0.3));\n",
              "      fill: #FFFFFF;\n",
              "    }\n",
              "  </style>\n",
              "\n",
              "      <script>\n",
              "        const buttonEl =\n",
              "          document.querySelector('#df-7b86dfa4-8ba1-43f7-a97d-5414e860815d button.colab-df-convert');\n",
              "        buttonEl.style.display =\n",
              "          google.colab.kernel.accessAllowed ? 'block' : 'none';\n",
              "\n",
              "        async function convertToInteractive(key) {\n",
              "          const element = document.querySelector('#df-7b86dfa4-8ba1-43f7-a97d-5414e860815d');\n",
              "          const dataTable =\n",
              "            await google.colab.kernel.invokeFunction('convertToInteractive',\n",
              "                                                     [key], {});\n",
              "          if (!dataTable) return;\n",
              "\n",
              "          const docLinkHtml = 'Like what you see? Visit the ' +\n",
              "            '<a target=\"_blank\" href=https://colab.research.google.com/notebooks/data_table.ipynb>data table notebook</a>'\n",
              "            + ' to learn more about interactive tables.';\n",
              "          element.innerHTML = '';\n",
              "          dataTable['output_type'] = 'display_data';\n",
              "          await google.colab.output.renderOutput(dataTable, element);\n",
              "          const docLink = document.createElement('div');\n",
              "          docLink.innerHTML = docLinkHtml;\n",
              "          element.appendChild(docLink);\n",
              "        }\n",
              "      </script>\n",
              "    </div>\n",
              "  </div>\n"
            ]
          },
          "metadata": {},
          "execution_count": 30
        }
      ]
    },
    {
      "cell_type": "code",
      "source": [
        "df.drop(['Sex', 'Sex_Encoded'], axis=1).hist(bins=20, figsize=(15,10))\n",
        "plt.show()"
      ],
      "metadata": {
        "colab": {
          "base_uri": "https://localhost:8080/",
          "height": 781
        },
        "id": "faGP4OFkFHzE",
        "outputId": "4a7cc0c8-191d-4121-ffd8-7f4c6a10a8d2"
      },
      "execution_count": 31,
      "outputs": [
        {
          "output_type": "display_data",
          "data": {
            "text/plain": [
              "<Figure size 1500x1000 with 6 Axes>"
            ],
            "image/png": "[encoded data removed]"
          },
          "metadata": {}
        }
      ]
    },
    {
      "cell_type": "code",
      "source": [],
      "metadata": {
        "id": "DSp1zTRoGpfb"
      },
      "execution_count": 31,
      "outputs": []
    },
    {
      "cell_type": "markdown",
      "source": [
        "Represent the Fare and Age column in Box-plot"
      ],
      "metadata": {
        "id": "sBizlNvfGoOf"
      }
    },
    {
      "cell_type": "code",
      "source": [
        "sns.boxplot(df[['Age', 'Fare']])\n",
        "plt.tight_layout()\n",
        "plt.show()"
      ],
      "metadata": {
        "colab": {
          "base_uri": "https://localhost:8080/",
          "height": 480
        },
        "id": "rCsZGX0oFSQZ",
        "outputId": "5aca13ac-1997-49df-a0eb-8731a615c039"
      },
      "execution_count": 32,
      "outputs": [
        {
          "output_type": "display_data",
          "data": {
            "text/plain": [
              "<Figure size 640x480 with 1 Axes>"
            ],
            "image/png": "[encoded data removed]"
          },
          "metadata": {}
        }
      ]
    },
    {
      "cell_type": "markdown",
      "source": [
        "**Skewness**\n",
        "\n",
        "the skewness value should be within the range of -1 to 1 for a normal distribution, any major changes from this value may indicate the presence of outliers."
      ],
      "metadata": {
        "id": "GuabhVk9HIVq"
      }
    },
    {
      "cell_type": "code",
      "source": [
        "print('skewness value of Age: ',df['Age'].skew())\n",
        "print('skewness value of Fare: ',df['Fare'].skew())"
      ],
      "metadata": {
        "colab": {
          "base_uri": "https://localhost:8080/"
        },
        "id": "R3SGDIQBG2Xz",
        "outputId": "26edcec4-9f08-43a4-800e-9c1aac8e5dd4"
      },
      "execution_count": 33,
      "outputs": [
        {
          "output_type": "stream",
          "name": "stdout",
          "text": [
            "skewness value of Age:  0.6802503442642999\n",
            "skewness value of Fare:  3.6915998329393105\n"
          ]
        }
      ]
    },
    {
      "cell_type": "markdown",
      "source": [
        "The Fare column is **Right Skewed**"
      ],
      "metadata": {
        "id": "5rl8DKJ2Heq4"
      }
    },
    {
      "cell_type": "code",
      "source": [
        "sns.kdeplot(df['Fare'], fill=True)\n",
        "plt.show()"
      ],
      "metadata": {
        "colab": {
          "base_uri": "https://localhost:8080/",
          "height": 458
        },
        "id": "jFKx_D-mHRIz",
        "outputId": "8735ae22-25f7-42af-cc34-bbb412c7aefc"
      },
      "execution_count": 34,
      "outputs": [
        {
          "output_type": "display_data",
          "data": {
            "text/plain": [
              "<Figure size 640x480 with 1 Axes>"
            ],
            "image/png": "[encoded data removed]"
          },
          "metadata": {}
        }
      ]
    },
    {
      "cell_type": "markdown",
      "source": [
        "Now, using **IQR (Inter Quartile Range)**\n",
        "\n",
        "**IQR = Q3 – Q1**\n",
        "\n",
        "**Q3 = 75% percentail**\n",
        "\n",
        "**Q1 = 25% percentail**\n",
        "\n",
        "\n",
        "Upper and lower bound\n",
        "\n",
        "**lower-bound = Q1 - 1.5 * IQR**\n",
        "\n",
        "**upper-bound = Q2 - 1.5 * IQR**"
      ],
      "metadata": {
        "id": "yMFD6rIiIXtT"
      }
    },
    {
      "cell_type": "code",
      "source": [
        "Q1 = df['Fare'].quantile(0.25)\n",
        "Q3 = df['Fare'].quantile(0.75)\n",
        "\n",
        "IQR = Q3 - Q1\n",
        "\n",
        "lower_bound = Q1 - 1.5 * IQR\n",
        "upper_bound = Q3 + 1.5 * IQR\n",
        "\n",
        "# Remove outliers from the Fare column\n",
        "df = df[(df['Fare'] >= lower_bound) & (df['Fare'] <= upper_bound)]"
      ],
      "metadata": {
        "id": "cQNHRyYBHtpB"
      },
      "execution_count": 35,
      "outputs": []
    },
    {
      "cell_type": "code",
      "source": [
        "fig, axx = plt.subplots(1, 2, figsize=(13,5))\n",
        "sns.boxplot(df['Fare'], ax=axx[0])\n",
        "sns.kdeplot(df['Fare'], fill=True, ax=axx[1])\n",
        "plt.tight_layout()"
      ],
      "metadata": {
        "colab": {
          "base_uri": "https://localhost:8080/",
          "height": 437
        },
        "id": "cmxcBiGbJ9iq",
        "outputId": "b5ab09d6-cd68-4611-f891-9ae77a76e209"
      },
      "execution_count": 36,
      "outputs": [
        {
          "output_type": "display_data",
          "data": {
            "text/plain": [
              "<Figure size 1300x500 with 2 Axes>"
            ],
            "image/png": "[encoded data removed]"
          },
          "metadata": {}
        }
      ]
    },
    {
      "cell_type": "code",
      "source": [],
      "metadata": {
        "id": "yx0WOkHtKIHj"
      },
      "execution_count": 36,
      "outputs": []
    },
    {
      "cell_type": "code",
      "source": [],
      "metadata": {
        "id": "lVmaeFf3K-fs"
      },
      "execution_count": 36,
      "outputs": []
    },
    {
      "cell_type": "markdown",
      "source": [
        "# Feature Engineering"
      ],
      "metadata": {
        "id": "NcD0XUfYK-9N"
      }
    },
    {
      "cell_type": "code",
      "source": [
        "df.head()"
      ],
      "metadata": {
        "colab": {
          "base_uri": "https://localhost:8080/",
          "height": 206
        },
        "id": "jpEYhlFZLlz0",
        "outputId": "b9135b0a-275f-4c78-c50e-4a2aaf6e6276"
      },
      "execution_count": 37,
      "outputs": [
        {
          "output_type": "execute_result",
          "data": {
            "text/plain": [
              "   Survived  Pclass     Sex   Age  SibSp  Parch     Fare Embarked  Sex_Encoded\n",
              "0         0       3    male  34.5      0      0   7.8292        Q            0\n",
              "1         1       3  female  47.0      1      0   7.0000        S            1\n",
              "2         0       2    male  62.0      0      0   9.6875        Q            0\n",
              "3         0       3    male  27.0      0      0   8.6625        S            0\n",
              "4         1       3  female  22.0      1      1  12.2875        S            1"
            ],
            "text/html": [
              "\n",
              "\n",
              "  <div id=\"df-ede96dfd-ae1c-4f18-9977-ad32c0024a83\">\n",
              "    <div class=\"colab-df-container\">\n",
              "      <div>\n",
              "<style scoped>\n",
              "    .dataframe tbody tr th:only-of-type {\n",
              "        vertical-align: middle;\n",
              "    }\n",
              "\n",
              "    .dataframe tbody tr th {\n",
              "        vertical-align: top;\n",
              "    }\n",
              "\n",
              "    .dataframe thead th {\n",
              "        text-align: right;\n",
              "    }\n",
              "</style>\n",
              "<table border=\"1\" class=\"dataframe\">\n",
              "  <thead>\n",
              "    <tr style=\"text-align: right;\">\n",
              "      <th></th>\n",
              "      <th>Survived</th>\n",
              "      <th>Pclass</th>\n",
              "      <th>Sex</th>\n",
              "      <th>Age</th>\n",
              "      <th>SibSp</th>\n",
              "      <th>Parch</th>\n",
              "      <th>Fare</th>\n",
              "      <th>Embarked</th>\n",
              "      <th>Sex_Encoded</th>\n",
              "    </tr>\n",
              "  </thead>\n",
              "  <tbody>\n",
              "    <tr>\n",
              "      <th>0</th>\n",
              "      <td>0</td>\n",
              "      <td>3</td>\n",
              "      <td>male</td>\n",
              "      <td>34.5</td>\n",
              "      <td>0</td>\n",
              "      <td>0</td>\n",
              "      <td>7.8292</td>\n",
              "      <td>Q</td>\n",
              "      <td>0</td>\n",
              "    </tr>\n",
              "    <tr>\n",
              "      <th>1</th>\n",
              "      <td>1</td>\n",
              "      <td>3</td>\n",
              "      <td>female</td>\n",
              "      <td>47.0</td>\n",
              "      <td>1</td>\n",
              "      <td>0</td>\n",
              "      <td>7.0000</td>\n",
              "      <td>S</td>\n",
              "      <td>1</td>\n",
              "    </tr>\n",
              "    <tr>\n",
              "      <th>2</th>\n",
              "      <td>0</td>\n",
              "      <td>2</td>\n",
              "      <td>male</td>\n",
              "      <td>62.0</td>\n",
              "      <td>0</td>\n",
              "      <td>0</td>\n",
              "      <td>9.6875</td>\n",
              "      <td>Q</td>\n",
              "      <td>0</td>\n",
              "    </tr>\n",
              "    <tr>\n",
              "      <th>3</th>\n",
              "      <td>0</td>\n",
              "      <td>3</td>\n",
              "      <td>male</td>\n",
              "      <td>27.0</td>\n",
              "      <td>0</td>\n",
              "      <td>0</td>\n",
              "      <td>8.6625</td>\n",
              "      <td>S</td>\n",
              "      <td>0</td>\n",
              "    </tr>\n",
              "    <tr>\n",
              "      <th>4</th>\n",
              "      <td>1</td>\n",
              "      <td>3</td>\n",
              "      <td>female</td>\n",
              "      <td>22.0</td>\n",
              "      <td>1</td>\n",
              "      <td>1</td>\n",
              "      <td>12.2875</td>\n",
              "      <td>S</td>\n",
              "      <td>1</td>\n",
              "    </tr>\n",
              "  </tbody>\n",
              "</table>\n",
              "</div>\n",
              "      <button class=\"colab-df-convert\" onclick=\"convertToInteractive('df-ede96dfd-ae1c-4f18-9977-ad32c0024a83')\"\n",
              "              title=\"Convert this dataframe to an interactive table.\"\n",
              "              style=\"display:none;\">\n",
              "\n",
              "  <svg xmlns=\"http://www.w3.org/2000/svg\" height=\"24px\"viewBox=\"0 0 24 24\"\n",
              "       width=\"24px\">\n",
              "    <path d=\"M0 0h24v24H0V0z\" fill=\"none\"/>\n",
              "    <path d=\"M18.56 5.44l.94 2.06.94-2.06 2.06-.94-2.06-.94-.94-2.06-.94 2.06-2.06.94zm-11 1L8.5 8.5l.94-2.06 2.06-.94-2.06-.94L8.5 2.5l-.94 2.06-2.06.94zm10 10l.94 2.06.94-2.06 2.06-.94-2.06-.94-.94-2.06-.94 2.06-2.06.94z\"/><path d=\"M17.41 7.96l-1.37-1.37c-.4-.4-.92-.59-1.43-.59-.52 0-1.04.2-1.43.59L10.3 9.45l-7.72 7.72c-.78.78-.78 2.05 0 2.83L4 21.41c.39.39.9.59 1.41.59.51 0 1.02-.2 1.41-.59l7.78-7.78 2.81-2.81c.8-.78.8-2.07 0-2.86zM5.41 20L4 18.59l7.72-7.72 1.47 1.35L5.41 20z\"/>\n",
              "  </svg>\n",
              "      </button>\n",
              "\n",
              "\n",
              "\n",
              "    <div id=\"df-26b9b134-7178-4e46-95b5-72f7e9c7b46c\">\n",
              "      <button class=\"colab-df-quickchart\" onclick=\"quickchart('df-26b9b134-7178-4e46-95b5-72f7e9c7b46c')\"\n",
              "              title=\"Suggest charts.\"\n",
              "              style=\"display:none;\">\n",
              "\n",
              "<svg xmlns=\"http://www.w3.org/2000/svg\" height=\"24px\"viewBox=\"0 0 24 24\"\n",
              "     width=\"24px\">\n",
              "    <g>\n",
              "        <path d=\"M19 3H5c-1.1 0-2 .9-2 2v14c0 1.1.9 2 2 2h14c1.1 0 2-.9 2-2V5c0-1.1-.9-2-2-2zM9 17H7v-7h2v7zm4 0h-2V7h2v10zm4 0h-2v-4h2v4z\"/>\n",
              "    </g>\n",
              "</svg>\n",
              "      </button>\n",
              "    </div>\n",
              "\n",
              "<style>\n",
              "  .colab-df-quickchart {\n",
              "    background-color: #E8F0FE;\n",
              "    border: none;\n",
              "    border-radius: 50%;\n",
              "    cursor: pointer;\n",
              "    display: none;\n",
              "    fill: #1967D2;\n",
              "    height: 32px;\n",
              "    padding: 0 0 0 0;\n",
              "    width: 32px;\n",
              "  }\n",
              "\n",
              "  .colab-df-quickchart:hover {\n",
              "    background-color: #E2EBFA;\n",
              "    box-shadow: 0px 1px 2px rgba(60, 64, 67, 0.3), 0px 1px 3px 1px rgba(60, 64, 67, 0.15);\n",
              "    fill: #174EA6;\n",
              "  }\n",
              "\n",
              "  [theme=dark] .colab-df-quickchart {\n",
              "    background-color: #3B4455;\n",
              "    fill: #D2E3FC;\n",
              "  }\n",
              "\n",
              "  [theme=dark] .colab-df-quickchart:hover {\n",
              "    background-color: #434B5C;\n",
              "    box-shadow: 0px 1px 3px 1px rgba(0, 0, 0, 0.15);\n",
              "    filter: drop-shadow(0px 1px 2px rgba(0, 0, 0, 0.3));\n",
              "    fill: #FFFFFF;\n",
              "  }\n",
              "</style>\n",
              "\n",
              "    <script>\n",
              "      async function quickchart(key) {\n",
              "        const containerElement = document.querySelector('#' + key);\n",
              "        const charts = await google.colab.kernel.invokeFunction(\n",
              "            'suggestCharts', [key], {});\n",
              "      }\n",
              "    </script>\n",
              "\n",
              "      <script>\n",
              "\n",
              "function displayQuickchartButton(domScope) {\n",
              "  let quickchartButtonEl =\n",
              "    domScope.querySelector('#df-26b9b134-7178-4e46-95b5-72f7e9c7b46c button.colab-df-quickchart');\n",
              "  quickchartButtonEl.style.display =\n",
              "    google.colab.kernel.accessAllowed ? 'block' : 'none';\n",
              "}\n",
              "\n",
              "        displayQuickchartButton(document);\n",
              "      </script>\n",
              "      <style>\n",
              "    .colab-df-container {\n",
              "      display:flex;\n",
              "      flex-wrap:wrap;\n",
              "      gap: 12px;\n",
              "    }\n",
              "\n",
              "    .colab-df-convert {\n",
              "      background-color: #E8F0FE;\n",
              "      border: none;\n",
              "      border-radius: 50%;\n",
              "      cursor: pointer;\n",
              "      display: none;\n",
              "      fill: #1967D2;\n",
              "      height: 32px;\n",
              "      padding: 0 0 0 0;\n",
              "      width: 32px;\n",
              "    }\n",
              "\n",
              "    .colab-df-convert:hover {\n",
              "      background-color: #E2EBFA;\n",
              "      box-shadow: 0px 1px 2px rgba(60, 64, 67, 0.3), 0px 1px 3px 1px rgba(60, 64, 67, 0.15);\n",
              "      fill: #174EA6;\n",
              "    }\n",
              "\n",
              "    [theme=dark] .colab-df-convert {\n",
              "      background-color: #3B4455;\n",
              "      fill: #D2E3FC;\n",
              "    }\n",
              "\n",
              "    [theme=dark] .colab-df-convert:hover {\n",
              "      background-color: #434B5C;\n",
              "      box-shadow: 0px 1px 3px 1px rgba(0, 0, 0, 0.15);\n",
              "      filter: drop-shadow(0px 1px 2px rgba(0, 0, 0, 0.3));\n",
              "      fill: #FFFFFF;\n",
              "    }\n",
              "  </style>\n",
              "\n",
              "      <script>\n",
              "        const buttonEl =\n",
              "          document.querySelector('#df-ede96dfd-ae1c-4f18-9977-ad32c0024a83 button.colab-df-convert');\n",
              "        buttonEl.style.display =\n",
              "          google.colab.kernel.accessAllowed ? 'block' : 'none';\n",
              "\n",
              "        async function convertToInteractive(key) {\n",
              "          const element = document.querySelector('#df-ede96dfd-ae1c-4f18-9977-ad32c0024a83');\n",
              "          const dataTable =\n",
              "            await google.colab.kernel.invokeFunction('convertToInteractive',\n",
              "                                                     [key], {});\n",
              "          if (!dataTable) return;\n",
              "\n",
              "          const docLinkHtml = 'Like what you see? Visit the ' +\n",
              "            '<a target=\"_blank\" href=https://colab.research.google.com/notebooks/data_table.ipynb>data table notebook</a>'\n",
              "            + ' to learn more about interactive tables.';\n",
              "          element.innerHTML = '';\n",
              "          dataTable['output_type'] = 'display_data';\n",
              "          await google.colab.output.renderOutput(dataTable, element);\n",
              "          const docLink = document.createElement('div');\n",
              "          docLink.innerHTML = docLinkHtml;\n",
              "          element.appendChild(docLink);\n",
              "        }\n",
              "      </script>\n",
              "    </div>\n",
              "  </div>\n"
            ]
          },
          "metadata": {},
          "execution_count": 37
        }
      ]
    },
    {
      "cell_type": "markdown",
      "source": [
        "We will create a new **feature called Alone and familiars**. If the person was traveling alone or with family based on SibSp (Siblings/Spouses) and Parch (Parents/Children) attributes, also the size of the family."
      ],
      "metadata": {
        "id": "8kIj3jcQM5fy"
      }
    },
    {
      "cell_type": "code",
      "source": [
        "fig, axx = plt.subplots(1, 3, figsize=(20,5))\n",
        "axx[0].set_title('Amounth of Siblins/Spouses')\n",
        "sns.countplot(x='SibSp', data=df, ax=axx[0])\n",
        "axx[1].set_title('Amounth of parents/children')\n",
        "sns.countplot(x='Parch', data=df, ax=axx[1])\n",
        "axx[2].set_title('Distribution of Classes')\n",
        "sns.countplot(x='Pclass', data=df, ax=axx[2])\n",
        "plt.tight_layout()"
      ],
      "metadata": {
        "colab": {
          "base_uri": "https://localhost:8080/",
          "height": 289
        },
        "id": "dHxnaVzqLAa4",
        "outputId": "2dff3cef-917c-4da9-8dd6-4cda69e2a840"
      },
      "execution_count": 38,
      "outputs": [
        {
          "output_type": "display_data",
          "data": {
            "text/plain": [
              "<Figure size 2000x500 with 3 Axes>"
            ],
            "image/png": "[encoded data removed]"
          },
          "metadata": {}
        }
      ]
    },
    {
      "cell_type": "code",
      "source": [
        "def create_alone_feature(SibSp_Parch):\n",
        "    if (SibSp_Parch[0]+SibSp_Parch[1])==0:\n",
        "        return 1\n",
        "    else:\n",
        "        return 0\n",
        "\n",
        "df['Alone'] = df[['SibSp','Parch']].apply(create_alone_feature, axis=1)\n",
        "df['Familiars'] = 1 + df['SibSp'] + df['Parch']"
      ],
      "metadata": {
        "id": "FbzbdtQvLxOo"
      },
      "execution_count": 39,
      "outputs": []
    },
    {
      "cell_type": "code",
      "source": [
        "df.head()"
      ],
      "metadata": {
        "colab": {
          "base_uri": "https://localhost:8080/",
          "height": 206
        },
        "id": "ujBZN92WLxLV",
        "outputId": "07ccbea1-85a1-4a0f-c86e-d9f82174eeb1"
      },
      "execution_count": 40,
      "outputs": [
        {
          "output_type": "execute_result",
          "data": {
            "text/plain": [
              "   Survived  Pclass     Sex   Age  SibSp  Parch     Fare Embarked  \\\n",
              "0         0       3    male  34.5      0      0   7.8292        Q   \n",
              "1         1       3  female  47.0      1      0   7.0000        S   \n",
              "2         0       2    male  62.0      0      0   9.6875        Q   \n",
              "3         0       3    male  27.0      0      0   8.6625        S   \n",
              "4         1       3  female  22.0      1      1  12.2875        S   \n",
              "\n",
              "   Sex_Encoded  Alone  Familiars  \n",
              "0            0      1          1  \n",
              "1            1      0          2  \n",
              "2            0      1          1  \n",
              "3            0      1          1  \n",
              "4            1      0          3  "
            ],
            "text/html": [
              "\n",
              "\n",
              "  <div id=\"df-812873bb-202d-4bb2-8b2b-45a5ad1a34cc\">\n",
              "    <div class=\"colab-df-container\">\n",
              "      <div>\n",
              "<style scoped>\n",
              "    .dataframe tbody tr th:only-of-type {\n",
              "        vertical-align: middle;\n",
              "    }\n",
              "\n",
              "    .dataframe tbody tr th {\n",
              "        vertical-align: top;\n",
              "    }\n",
              "\n",
              "    .dataframe thead th {\n",
              "        text-align: right;\n",
              "    }\n",
              "</style>\n",
              "<table border=\"1\" class=\"dataframe\">\n",
              "  <thead>\n",
              "    <tr style=\"text-align: right;\">\n",
              "      <th></th>\n",
              "      <th>Survived</th>\n",
              "      <th>Pclass</th>\n",
              "      <th>Sex</th>\n",
              "      <th>Age</th>\n",
              "      <th>SibSp</th>\n",
              "      <th>Parch</th>\n",
              "      <th>Fare</th>\n",
              "      <th>Embarked</th>\n",
              "      <th>Sex_Encoded</th>\n",
              "      <th>Alone</th>\n",
              "      <th>Familiars</th>\n",
              "    </tr>\n",
              "  </thead>\n",
              "  <tbody>\n",
              "    <tr>\n",
              "      <th>0</th>\n",
              "      <td>0</td>\n",
              "      <td>3</td>\n",
              "      <td>male</td>\n",
              "      <td>34.5</td>\n",
              "      <td>0</td>\n",
              "      <td>0</td>\n",
              "      <td>7.8292</td>\n",
              "      <td>Q</td>\n",
              "      <td>0</td>\n",
              "      <td>1</td>\n",
              "      <td>1</td>\n",
              "    </tr>\n",
              "    <tr>\n",
              "      <th>1</th>\n",
              "      <td>1</td>\n",
              "      <td>3</td>\n",
              "      <td>female</td>\n",
              "      <td>47.0</td>\n",
              "      <td>1</td>\n",
              "      <td>0</td>\n",
              "      <td>7.0000</td>\n",
              "      <td>S</td>\n",
              "      <td>1</td>\n",
              "      <td>0</td>\n",
              "      <td>2</td>\n",
              "    </tr>\n",
              "    <tr>\n",
              "      <th>2</th>\n",
              "      <td>0</td>\n",
              "      <td>2</td>\n",
              "      <td>male</td>\n",
              "      <td>62.0</td>\n",
              "      <td>0</td>\n",
              "      <td>0</td>\n",
              "      <td>9.6875</td>\n",
              "      <td>Q</td>\n",
              "      <td>0</td>\n",
              "      <td>1</td>\n",
              "      <td>1</td>\n",
              "    </tr>\n",
              "    <tr>\n",
              "      <th>3</th>\n",
              "      <td>0</td>\n",
              "      <td>3</td>\n",
              "      <td>male</td>\n",
              "      <td>27.0</td>\n",
              "      <td>0</td>\n",
              "      <td>0</td>\n",
              "      <td>8.6625</td>\n",
              "      <td>S</td>\n",
              "      <td>0</td>\n",
              "      <td>1</td>\n",
              "      <td>1</td>\n",
              "    </tr>\n",
              "    <tr>\n",
              "      <th>4</th>\n",
              "      <td>1</td>\n",
              "      <td>3</td>\n",
              "      <td>female</td>\n",
              "      <td>22.0</td>\n",
              "      <td>1</td>\n",
              "      <td>1</td>\n",
              "      <td>12.2875</td>\n",
              "      <td>S</td>\n",
              "      <td>1</td>\n",
              "      <td>0</td>\n",
              "      <td>3</td>\n",
              "    </tr>\n",
              "  </tbody>\n",
              "</table>\n",
              "</div>\n",
              "      <button class=\"colab-df-convert\" onclick=\"convertToInteractive('df-812873bb-202d-4bb2-8b2b-45a5ad1a34cc')\"\n",
              "              title=\"Convert this dataframe to an interactive table.\"\n",
              "              style=\"display:none;\">\n",
              "\n",
              "  <svg xmlns=\"http://www.w3.org/2000/svg\" height=\"24px\"viewBox=\"0 0 24 24\"\n",
              "       width=\"24px\">\n",
              "    <path d=\"M0 0h24v24H0V0z\" fill=\"none\"/>\n",
              "    <path d=\"M18.56 5.44l.94 2.06.94-2.06 2.06-.94-2.06-.94-.94-2.06-.94 2.06-2.06.94zm-11 1L8.5 8.5l.94-2.06 2.06-.94-2.06-.94L8.5 2.5l-.94 2.06-2.06.94zm10 10l.94 2.06.94-2.06 2.06-.94-2.06-.94-.94-2.06-.94 2.06-2.06.94z\"/><path d=\"M17.41 7.96l-1.37-1.37c-.4-.4-.92-.59-1.43-.59-.52 0-1.04.2-1.43.59L10.3 9.45l-7.72 7.72c-.78.78-.78 2.05 0 2.83L4 21.41c.39.39.9.59 1.41.59.51 0 1.02-.2 1.41-.59l7.78-7.78 2.81-2.81c.8-.78.8-2.07 0-2.86zM5.41 20L4 18.59l7.72-7.72 1.47 1.35L5.41 20z\"/>\n",
              "  </svg>\n",
              "      </button>\n",
              "\n",
              "\n",
              "\n",
              "    <div id=\"df-69db5125-48b3-43ec-a882-5410a4c90ac5\">\n",
              "      <button class=\"colab-df-quickchart\" onclick=\"quickchart('df-69db5125-48b3-43ec-a882-5410a4c90ac5')\"\n",
              "              title=\"Suggest charts.\"\n",
              "              style=\"display:none;\">\n",
              "\n",
              "<svg xmlns=\"http://www.w3.org/2000/svg\" height=\"24px\"viewBox=\"0 0 24 24\"\n",
              "     width=\"24px\">\n",
              "    <g>\n",
              "        <path d=\"M19 3H5c-1.1 0-2 .9-2 2v14c0 1.1.9 2 2 2h14c1.1 0 2-.9 2-2V5c0-1.1-.9-2-2-2zM9 17H7v-7h2v7zm4 0h-2V7h2v10zm4 0h-2v-4h2v4z\"/>\n",
              "    </g>\n",
              "</svg>\n",
              "      </button>\n",
              "    </div>\n",
              "\n",
              "<style>\n",
              "  .colab-df-quickchart {\n",
              "    background-color: #E8F0FE;\n",
              "    border: none;\n",
              "    border-radius: 50%;\n",
              "    cursor: pointer;\n",
              "    display: none;\n",
              "    fill: #1967D2;\n",
              "    height: 32px;\n",
              "    padding: 0 0 0 0;\n",
              "    width: 32px;\n",
              "  }\n",
              "\n",
              "  .colab-df-quickchart:hover {\n",
              "    background-color: #E2EBFA;\n",
              "    box-shadow: 0px 1px 2px rgba(60, 64, 67, 0.3), 0px 1px 3px 1px rgba(60, 64, 67, 0.15);\n",
              "    fill: #174EA6;\n",
              "  }\n",
              "\n",
              "  [theme=dark] .colab-df-quickchart {\n",
              "    background-color: #3B4455;\n",
              "    fill: #D2E3FC;\n",
              "  }\n",
              "\n",
              "  [theme=dark] .colab-df-quickchart:hover {\n",
              "    background-color: #434B5C;\n",
              "    box-shadow: 0px 1px 3px 1px rgba(0, 0, 0, 0.15);\n",
              "    filter: drop-shadow(0px 1px 2px rgba(0, 0, 0, 0.3));\n",
              "    fill: #FFFFFF;\n",
              "  }\n",
              "</style>\n",
              "\n",
              "    <script>\n",
              "      async function quickchart(key) {\n",
              "        const containerElement = document.querySelector('#' + key);\n",
              "        const charts = await google.colab.kernel.invokeFunction(\n",
              "            'suggestCharts', [key], {});\n",
              "      }\n",
              "    </script>\n",
              "\n",
              "      <script>\n",
              "\n",
              "function displayQuickchartButton(domScope) {\n",
              "  let quickchartButtonEl =\n",
              "    domScope.querySelector('#df-69db5125-48b3-43ec-a882-5410a4c90ac5 button.colab-df-quickchart');\n",
              "  quickchartButtonEl.style.display =\n",
              "    google.colab.kernel.accessAllowed ? 'block' : 'none';\n",
              "}\n",
              "\n",
              "        displayQuickchartButton(document);\n",
              "      </script>\n",
              "      <style>\n",
              "    .colab-df-container {\n",
              "      display:flex;\n",
              "      flex-wrap:wrap;\n",
              "      gap: 12px;\n",
              "    }\n",
              "\n",
              "    .colab-df-convert {\n",
              "      background-color: #E8F0FE;\n",
              "      border: none;\n",
              "      border-radius: 50%;\n",
              "      cursor: pointer;\n",
              "      display: none;\n",
              "      fill: #1967D2;\n",
              "      height: 32px;\n",
              "      padding: 0 0 0 0;\n",
              "      width: 32px;\n",
              "    }\n",
              "\n",
              "    .colab-df-convert:hover {\n",
              "      background-color: #E2EBFA;\n",
              "      box-shadow: 0px 1px 2px rgba(60, 64, 67, 0.3), 0px 1px 3px 1px rgba(60, 64, 67, 0.15);\n",
              "      fill: #174EA6;\n",
              "    }\n",
              "\n",
              "    [theme=dark] .colab-df-convert {\n",
              "      background-color: #3B4455;\n",
              "      fill: #D2E3FC;\n",
              "    }\n",
              "\n",
              "    [theme=dark] .colab-df-convert:hover {\n",
              "      background-color: #434B5C;\n",
              "      box-shadow: 0px 1px 3px 1px rgba(0, 0, 0, 0.15);\n",
              "      filter: drop-shadow(0px 1px 2px rgba(0, 0, 0, 0.3));\n",
              "      fill: #FFFFFF;\n",
              "    }\n",
              "  </style>\n",
              "\n",
              "      <script>\n",
              "        const buttonEl =\n",
              "          document.querySelector('#df-812873bb-202d-4bb2-8b2b-45a5ad1a34cc button.colab-df-convert');\n",
              "        buttonEl.style.display =\n",
              "          google.colab.kernel.accessAllowed ? 'block' : 'none';\n",
              "\n",
              "        async function convertToInteractive(key) {\n",
              "          const element = document.querySelector('#df-812873bb-202d-4bb2-8b2b-45a5ad1a34cc');\n",
              "          const dataTable =\n",
              "            await google.colab.kernel.invokeFunction('convertToInteractive',\n",
              "                                                     [key], {});\n",
              "          if (!dataTable) return;\n",
              "\n",
              "          const docLinkHtml = 'Like what you see? Visit the ' +\n",
              "            '<a target=\"_blank\" href=https://colab.research.google.com/notebooks/data_table.ipynb>data table notebook</a>'\n",
              "            + ' to learn more about interactive tables.';\n",
              "          element.innerHTML = '';\n",
              "          dataTable['output_type'] = 'display_data';\n",
              "          await google.colab.output.renderOutput(dataTable, element);\n",
              "          const docLink = document.createElement('div');\n",
              "          docLink.innerHTML = docLinkHtml;\n",
              "          element.appendChild(docLink);\n",
              "        }\n",
              "      </script>\n",
              "    </div>\n",
              "  </div>\n"
            ]
          },
          "metadata": {},
          "execution_count": 40
        }
      ]
    },
    {
      "cell_type": "markdown",
      "source": [
        "OneHotEncoding the Embarked column"
      ],
      "metadata": {
        "id": "PUVoukBtOgr_"
      }
    },
    {
      "cell_type": "code",
      "source": [
        "df=pd.get_dummies(df, columns = ['Embarked'], drop_first=True)"
      ],
      "metadata": {
        "id": "RgMSgMzCOjWi"
      },
      "execution_count": 41,
      "outputs": []
    },
    {
      "cell_type": "code",
      "source": [
        "show_missing_values(df)"
      ],
      "metadata": {
        "colab": {
          "base_uri": "https://localhost:8080/"
        },
        "id": "hRYOSBZ2PkKh",
        "outputId": "7df07445-dcc3-4f15-96ca-423624c832f4"
      },
      "execution_count": 42,
      "outputs": [
        {
          "output_type": "stream",
          "name": "stdout",
          "text": [
            "Survived       0\n",
            "Pclass         0\n",
            "Sex            0\n",
            "Age            0\n",
            "SibSp          0\n",
            "Parch          0\n",
            "Fare           0\n",
            "Sex_Encoded    0\n",
            "Alone          0\n",
            "Familiars      0\n",
            "Embarked_Q     0\n",
            "Embarked_S     0\n",
            "dtype: int64\n"
          ]
        }
      ]
    },
    {
      "cell_type": "code",
      "source": [
        "plt.figure(figsize=(10, 8))\n",
        "sns.heatmap(df.corr(), cbar=True, fmt='.2f', annot=True, annot_kws={'size':10}, cmap='coolwarm')\n",
        "plt.tight_layout()\n",
        "plt.show()"
      ],
      "metadata": {
        "colab": {
          "base_uri": "https://localhost:8080/",
          "height": 801
        },
        "id": "yPbexBB3Lvok",
        "outputId": "da753dab-bcc3-4adf-daf3-6373d36a4e5d"
      },
      "execution_count": 43,
      "outputs": [
        {
          "output_type": "display_data",
          "data": {
            "text/plain": [
              "<Figure size 1000x800 with 2 Axes>"
            ],
            "image/png": "[encoded data removed]"
          },
          "metadata": {}
        }
      ]
    },
    {
      "cell_type": "code",
      "source": [
        "# Feature columns\n",
        "feature_col = ['Pclass','Age', 'Fare', 'Familiars', 'Parch']\n",
        "\n",
        "# Independent Variable\n",
        "X = df[feature_col]\n",
        "\n",
        "# Dependent Variable\n",
        "y = df['Survived']"
      ],
      "metadata": {
        "id": "dQ0yPhTyLs0-"
      },
      "execution_count": 44,
      "outputs": []
    },
    {
      "cell_type": "markdown",
      "source": [
        "Normalize data"
      ],
      "metadata": {
        "id": "tD1mDNkMQD52"
      }
    },
    {
      "cell_type": "code",
      "source": [
        "from sklearn.preprocessing import MinMaxScaler\n",
        "mnms = MinMaxScaler()\n",
        "X = pd.DataFrame(mnms.fit_transform(X), columns=X.columns)"
      ],
      "metadata": {
        "id": "16IDcHNiQEND"
      },
      "execution_count": 45,
      "outputs": []
    },
    {
      "cell_type": "markdown",
      "source": [
        "Train test split\n",
        "\n",
        "70 + 30 ratio"
      ],
      "metadata": {
        "id": "jx6K9LoYQY9x"
      }
    },
    {
      "cell_type": "code",
      "source": [
        "from sklearn.model_selection import train_test_split\n",
        "\n",
        "X_train, X_test, y_train, y_test = train_test_split(X, y, test_size=0.30, random_state=143)\n",
        "\n",
        "print(X_train.shape)\n",
        "print(X_test.shape)\n",
        "print(y_train.shape)\n",
        "print(y_test.shape)"
      ],
      "metadata": {
        "colab": {
          "base_uri": "https://localhost:8080/"
        },
        "id": "l1pBf3DYQLoD",
        "outputId": "ff989c25-51df-4e5c-910c-b0f1791ecfb3"
      },
      "execution_count": 46,
      "outputs": [
        {
          "output_type": "stream",
          "name": "stdout",
          "text": [
            "(254, 5)\n",
            "(109, 5)\n",
            "(254,)\n",
            "(109,)\n"
          ]
        }
      ]
    },
    {
      "cell_type": "code",
      "source": [],
      "metadata": {
        "id": "GnoyVoo8cgch"
      },
      "execution_count": 46,
      "outputs": []
    },
    {
      "cell_type": "markdown",
      "source": [
        "# Model building"
      ],
      "metadata": {
        "id": "bnPP2QAQchQY"
      }
    },
    {
      "cell_type": "code",
      "source": [
        "from sklearn.linear_model import LogisticRegression\n",
        "from sklearn.svm import SVC\n",
        "from sklearn.ensemble import RandomForestClassifier, AdaBoostClassifier, GradientBoostingClassifier, ExtraTreesClassifier\n",
        "from sklearn.tree import DecisionTreeClassifier\n",
        "\n",
        "from xgboost import XGBClassifier\n",
        "from lightgbm import LGBMClassifier"
      ],
      "metadata": {
        "id": "vEkSuN9McgZB"
      },
      "execution_count": 47,
      "outputs": []
    },
    {
      "cell_type": "code",
      "source": [
        "models = [\n",
        "    ('LogisticRegression', LogisticRegression()),\n",
        "    ('SVC', SVC(gamma='auto')),\n",
        "    ('RandomForestClassifier', RandomForestClassifier()),\n",
        "    ('AdaBoostClassifier', AdaBoostClassifier()),\n",
        "    ('GradientBoostingClassifier', GradientBoostingClassifier()),\n",
        "    ('ExtraTreesClassifier', ExtraTreesClassifier()),\n",
        "    ('DecisionTreeClassifier', DecisionTreeClassifier()),\n",
        "    ('XGBClassifier', XGBClassifier()),\n",
        "    ('LGBMClassifier', LGBMClassifier()),\n",
        "]"
      ],
      "metadata": {
        "id": "fdKx1pxwcgW1"
      },
      "execution_count": 48,
      "outputs": []
    },
    {
      "cell_type": "code",
      "source": [
        "for name, model in models:\n",
        "  print(f\"Training.... {name}\")\n",
        "  clf = model.fit(X_train, y_train)\n",
        "  print('Training score: ', round(clf.score(X_train, y_train),3))\n",
        "  print('Testing score: ', round(clf.score(X_test, y_test),3))\n",
        "  print(\"--\"*20)"
      ],
      "metadata": {
        "colab": {
          "base_uri": "https://localhost:8080/"
        },
        "id": "OotTR5VaQoF4",
        "outputId": "b61eb78a-5c5e-4a5a-e520-56372c164824"
      },
      "execution_count": 49,
      "outputs": [
        {
          "output_type": "stream",
          "name": "stdout",
          "text": [
            "Training.... LogisticRegression\n",
            "Training score:  0.677\n",
            "Testing score:  0.642\n",
            "----------------------------------------\n",
            "Training.... SVC\n",
            "Training score:  0.669\n",
            "Testing score:  0.642\n",
            "----------------------------------------\n",
            "Training.... RandomForestClassifier\n",
            "Training score:  0.992\n",
            "Testing score:  0.734\n",
            "----------------------------------------\n",
            "Training.... AdaBoostClassifier\n",
            "Training score:  0.835\n",
            "Testing score:  0.734\n",
            "----------------------------------------\n",
            "Training.... GradientBoostingClassifier\n",
            "Training score:  0.929\n",
            "Testing score:  0.716\n",
            "----------------------------------------\n",
            "Training.... ExtraTreesClassifier\n",
            "Training score:  0.992\n",
            "Testing score:  0.716\n",
            "----------------------------------------\n",
            "Training.... DecisionTreeClassifier\n",
            "Training score:  0.992\n",
            "Testing score:  0.706\n",
            "----------------------------------------\n",
            "Training.... XGBClassifier\n",
            "Training score:  0.976\n",
            "Testing score:  0.697\n",
            "----------------------------------------\n",
            "Training.... LGBMClassifier\n",
            "Training score:  0.917\n",
            "Testing score:  0.761\n",
            "----------------------------------------\n"
          ]
        }
      ]
    },
    {
      "cell_type": "markdown",
      "source": [
        "Model summary best to worst\n",
        "\n",
        "**LGBMClassifier:** Training score - 0.917, Testing score - 0.761\n",
        "\n",
        "\n",
        "**RandomForestClassifier:** Training score - 0.992, Testing score - 0.734\n",
        "\n",
        "\n",
        "**AdaBoostClassifier:** Training score - 0.835, Testing score - 0.734\n",
        "\n",
        "\n",
        "**GradientBoostingClassifier:** Training score - 0.929, Testing score - 0.716\n",
        "\n",
        "\n",
        "**ExtraTreesClassifier:** Training score - 0.992, Testing score - 0.697\n",
        "\n",
        "\n",
        "**DecisionTreeClassifier:** Training score - 0.992, Testing score - 0.697\n",
        "\n",
        "\n",
        "**XGBClassifier:** Training score - 0.976, Testing score - 0.697\n",
        "\n",
        "**LogisticRegression:** Training score - 0.677, Testing score - 0.642\n",
        "\n",
        "**SVC:** Training score - 0.669, Testing score - 0.642"
      ],
      "metadata": {
        "id": "qyrxBdZJg6zn"
      }
    },
    {
      "cell_type": "code",
      "source": [
        "def LGBM_model(**param):\n",
        "    lgbm = LGBMClassifier(**param).fit(X_train, y_train)\n",
        "    print('Training score:', round(lgbm.score(X_train, y_train), 3))\n",
        "    print('Testing score:', round(lgbm.score(X_test, y_test), 3))\n",
        "\n",
        "LGBM_model()"
      ],
      "metadata": {
        "colab": {
          "base_uri": "https://localhost:8080/"
        },
        "id": "pOJzEd--eIdo",
        "outputId": "1ff616b2-394a-4953-8042-2bc4cedd56c5"
      },
      "execution_count": 50,
      "outputs": [
        {
          "output_type": "stream",
          "name": "stdout",
          "text": [
            "Training score: 0.917\n",
            "Testing score: 0.761\n"
          ]
        }
      ]
    },
    {
      "cell_type": "markdown",
      "source": [
        "### Hyperparameter Tunning"
      ],
      "metadata": {
        "id": "qy3caw_yk0M1"
      }
    },
    {
      "cell_type": "markdown",
      "source": [
        "#### Grid Search"
      ],
      "metadata": {
        "id": "lEMAqEo8lAXB"
      }
    },
    {
      "cell_type": "code",
      "source": [
        "from sklearn.model_selection import GridSearchCV\n",
        "\n",
        "# Define the parameter grid for grid search\n",
        "param_grid = {\n",
        "    'num_leaves': [20, 30, 40],\n",
        "    'max_depth': [5, 10, 15],\n",
        "    'learning_rate': [0.1, 0.05, 0.01],\n",
        "    'n_estimators': [100, 200, 300],\n",
        "}\n",
        "\n",
        "# Create an instance of the LGBMClassifier\n",
        "lgbm = LGBMClassifier()\n",
        "\n",
        "# Perform grid search\n",
        "grid_search = GridSearchCV(estimator=lgbm, param_grid=param_grid, cv=5)\n",
        "grid_search.fit(X_train, y_train)  # X_train and y_train are your training data\n",
        "\n",
        "# Print the best parameters and best score\n",
        "print(\"Best parameters: \", grid_search.best_params_)\n",
        "print(\"Best score: \", grid_search.best_score_)"
      ],
      "metadata": {
        "colab": {
          "base_uri": "https://localhost:8080/"
        },
        "id": "xhj5BBZgheau",
        "outputId": "52cd69fa-7a6b-4c16-9c5b-440b3cddf015"
      },
      "execution_count": 51,
      "outputs": [
        {
          "output_type": "stream",
          "name": "stdout",
          "text": [
            "Best parameters:  {'learning_rate': 0.05, 'max_depth': 5, 'n_estimators': 100, 'num_leaves': 20}\n",
            "Best score:  0.7363137254901961\n"
          ]
        }
      ]
    },
    {
      "cell_type": "markdown",
      "source": [
        "#### Randomized Search"
      ],
      "metadata": {
        "id": "NTx6AXZblDY7"
      }
    },
    {
      "cell_type": "code",
      "source": [
        "from sklearn.model_selection import RandomizedSearchCV\n",
        "\n",
        "# Step 1: Expand the hyperparameter search space\n",
        "\n",
        "param_grid = {\n",
        "    'num_leaves': [10, 20, 30, 40, 50],\n",
        "    'max_depth': [5, 10, 15, 20],\n",
        "    'learning_rate': [0.1, 0.05, 0.01],\n",
        "    'n_estimators': [100, 200, 300, 400],\n",
        "    'min_child_samples': [10, 20, 30, 40, 50],\n",
        "    'colsample_bytree': [0.6, 0.7, 0.8, 0.9, 1.0],\n",
        "    'reg_alpha': [0.0, 0.1, 0.5, 1.0]\n",
        "}\n",
        "\n",
        "# Randomized Search\n",
        "print(f\"-------------Randomized Search-----------------\")\n",
        "random_search = RandomizedSearchCV(estimator=LGBMClassifier(), param_distributions=param_grid, n_iter=10, cv=5)\n",
        "random_search.fit(X_train, y_train)\n",
        "LGBM_model(**random_search.best_params_)\n"
      ],
      "metadata": {
        "colab": {
          "base_uri": "https://localhost:8080/"
        },
        "id": "J-L0RZ_rigrJ",
        "outputId": "263136d4-2a2c-48e4-9c3d-44b7256839bc"
      },
      "execution_count": 52,
      "outputs": [
        {
          "output_type": "stream",
          "name": "stdout",
          "text": [
            "-------------Randomized Search-----------------\n",
            "Training score: 0.819\n",
            "Testing score: 0.697\n"
          ]
        }
      ]
    },
    {
      "cell_type": "markdown",
      "source": [
        "#### Optuna"
      ],
      "metadata": {
        "id": "SlQs2zSnk6QC"
      }
    },
    {
      "cell_type": "markdown",
      "source": [
        "Optuna is a software framework for automating the optimization process of these hyperparameters"
      ],
      "metadata": {
        "id": "1O1oaujhmMnd"
      }
    },
    {
      "cell_type": "code",
      "source": [
        "import optuna\n",
        "\n",
        "# Bayesian Optimization with Optuna\n",
        "def objective(trial):\n",
        "    params = {\n",
        "        'num_leaves': trial.suggest_int('num_leaves', 10, 50),\n",
        "        'max_depth': trial.suggest_int('max_depth', 5, 20),\n",
        "        'learning_rate': trial.suggest_categorical('learning_rate', [0.1, 0.05, 0.01]),\n",
        "        'n_estimators': trial.suggest_categorical('n_estimators', [100, 200, 300, 400]),\n",
        "        'min_child_samples': trial.suggest_int('min_child_samples', 10, 50),\n",
        "        'colsample_bytree': trial.suggest_uniform('colsample_bytree', 0.6, 1.0),\n",
        "        'reg_alpha': trial.suggest_categorical('reg_alpha', [0.0, 0.1, 0.5, 1.0])\n",
        "    }\n",
        "    lgbm = LGBMClassifier(**params).fit(X_train, y_train)\n",
        "    return lgbm.score(X_test, y_test)\n",
        "\n",
        "optuna_ = optuna.create_study(direction='maximize')\n",
        "optuna_.optimize(objective, n_trials=50)"
      ],
      "metadata": {
        "colab": {
          "base_uri": "https://localhost:8080/"
        },
        "id": "zXM4l7g1kq0F",
        "outputId": "2b408c02-2a96-40e5-92f6-c10041e9a379"
      },
      "execution_count": 53,
      "outputs": [
        {
          "output_type": "stream",
          "name": "stderr",
          "text": [
            "[I 2023-07-16 13:44:43,996] A new study created in memory with name: no-name-fe6302d5-a89d-465a-949a-93d4b8279a7a\n",
            "[I 2023-07-16 13:44:44,017] Trial 0 finished with value: 0.6972477064220184 and parameters: {'num_leaves': 21, 'max_depth': 14, 'learning_rate': 0.05, 'n_estimators': 100, 'min_child_samples': 46, 'colsample_bytree': 0.8773255090145199, 'reg_alpha': 0.1}. Best is trial 0 with value: 0.6972477064220184.\n",
            "[I 2023-07-16 13:44:44,067] Trial 1 finished with value: 0.7155963302752294 and parameters: {'num_leaves': 50, 'max_depth': 15, 'learning_rate': 0.01, 'n_estimators': 300, 'min_child_samples': 28, 'colsample_bytree': 0.7173192572335264, 'reg_alpha': 0.5}. Best is trial 1 with value: 0.7155963302752294.\n",
            "[I 2023-07-16 13:44:44,102] Trial 2 finished with value: 0.7614678899082569 and parameters: {'num_leaves': 44, 'max_depth': 20, 'learning_rate': 0.1, 'n_estimators': 200, 'min_child_samples': 24, 'colsample_bytree': 0.9665687080018902, 'reg_alpha': 0.0}. Best is trial 2 with value: 0.7614678899082569.\n",
            "[I 2023-07-16 13:44:44,142] Trial 3 finished with value: 0.7339449541284404 and parameters: {'num_leaves': 21, 'max_depth': 11, 'learning_rate': 0.05, 'n_estimators': 200, 'min_child_samples': 17, 'colsample_bytree': 0.8160184538214822, 'reg_alpha': 1.0}. Best is trial 2 with value: 0.7614678899082569.\n",
            "[I 2023-07-16 13:44:44,177] Trial 4 finished with value: 0.7706422018348624 and parameters: {'num_leaves': 20, 'max_depth': 15, 'learning_rate': 0.05, 'n_estimators': 100, 'min_child_samples': 14, 'colsample_bytree': 0.8149212269492023, 'reg_alpha': 0.0}. Best is trial 4 with value: 0.7706422018348624.\n",
            "[I 2023-07-16 13:44:44,213] Trial 5 finished with value: 0.7431192660550459 and parameters: {'num_leaves': 47, 'max_depth': 6, 'learning_rate': 0.01, 'n_estimators': 200, 'min_child_samples': 19, 'colsample_bytree': 0.7341297990879482, 'reg_alpha': 0.0}. Best is trial 4 with value: 0.7706422018348624.\n",
            "[I 2023-07-16 13:44:44,234] Trial 6 finished with value: 0.7064220183486238 and parameters: {'num_leaves': 32, 'max_depth': 5, 'learning_rate': 0.1, 'n_estimators': 100, 'min_child_samples': 19, 'colsample_bytree': 0.98497461110593, 'reg_alpha': 1.0}. Best is trial 4 with value: 0.7706422018348624.\n",
            "[I 2023-07-16 13:44:44,281] Trial 7 finished with value: 0.7155963302752294 and parameters: {'num_leaves': 33, 'max_depth': 17, 'learning_rate': 0.05, 'n_estimators': 200, 'min_child_samples': 13, 'colsample_bytree': 0.7971332103292632, 'reg_alpha': 0.1}. Best is trial 4 with value: 0.7706422018348624.\n",
            "[I 2023-07-16 13:44:44,327] Trial 8 finished with value: 0.7247706422018348 and parameters: {'num_leaves': 11, 'max_depth': 11, 'learning_rate': 0.1, 'n_estimators': 400, 'min_child_samples': 41, 'colsample_bytree': 0.6315834488987301, 'reg_alpha': 0.0}. Best is trial 4 with value: 0.7706422018348624.\n",
            "[I 2023-07-16 13:44:44,369] Trial 9 finished with value: 0.7431192660550459 and parameters: {'num_leaves': 37, 'max_depth': 14, 'learning_rate': 0.1, 'n_estimators': 400, 'min_child_samples': 49, 'colsample_bytree': 0.7581443976010804, 'reg_alpha': 0.1}. Best is trial 4 with value: 0.7706422018348624.\n",
            "[I 2023-07-16 13:44:44,417] Trial 10 finished with value: 0.6880733944954128 and parameters: {'num_leaves': 22, 'max_depth': 9, 'learning_rate': 0.05, 'n_estimators': 100, 'min_child_samples': 36, 'colsample_bytree': 0.8649489643776305, 'reg_alpha': 0.5}. Best is trial 4 with value: 0.7706422018348624.\n",
            "[I 2023-07-16 13:44:44,493] Trial 11 finished with value: 0.7522935779816514 and parameters: {'num_leaves': 41, 'max_depth': 19, 'learning_rate': 0.1, 'n_estimators': 300, 'min_child_samples': 27, 'colsample_bytree': 0.9988515554430418, 'reg_alpha': 0.0}. Best is trial 4 with value: 0.7706422018348624.\n",
            "[I 2023-07-16 13:44:44,557] Trial 12 finished with value: 0.6972477064220184 and parameters: {'num_leaves': 12, 'max_depth': 20, 'learning_rate': 0.05, 'n_estimators': 200, 'min_child_samples': 10, 'colsample_bytree': 0.9222506447954648, 'reg_alpha': 0.0}. Best is trial 4 with value: 0.7706422018348624.\n",
            "[I 2023-07-16 13:44:44,602] Trial 13 finished with value: 0.7339449541284404 and parameters: {'num_leaves': 26, 'max_depth': 17, 'learning_rate': 0.1, 'n_estimators': 100, 'min_child_samples': 25, 'colsample_bytree': 0.9363633108736849, 'reg_alpha': 0.0}. Best is trial 4 with value: 0.7706422018348624.\n",
            "[I 2023-07-16 13:44:44,646] Trial 14 finished with value: 0.6605504587155964 and parameters: {'num_leaves': 42, 'max_depth': 17, 'learning_rate': 0.01, 'n_estimators': 100, 'min_child_samples': 33, 'colsample_bytree': 0.8552630849127586, 'reg_alpha': 0.0}. Best is trial 4 with value: 0.7706422018348624.\n",
            "[I 2023-07-16 13:44:44,704] Trial 15 finished with value: 0.7706422018348624 and parameters: {'num_leaves': 16, 'max_depth': 19, 'learning_rate': 0.05, 'n_estimators': 200, 'min_child_samples': 22, 'colsample_bytree': 0.9301456217053388, 'reg_alpha': 0.0}. Best is trial 4 with value: 0.7706422018348624.\n",
            "[I 2023-07-16 13:44:44,790] Trial 16 finished with value: 0.7522935779816514 and parameters: {'num_leaves': 16, 'max_depth': 18, 'learning_rate': 0.05, 'n_estimators': 300, 'min_child_samples': 15, 'colsample_bytree': 0.9100353115136753, 'reg_alpha': 0.0}. Best is trial 4 with value: 0.7706422018348624.\n",
            "[I 2023-07-16 13:44:44,874] Trial 17 finished with value: 0.7522935779816514 and parameters: {'num_leaves': 16, 'max_depth': 15, 'learning_rate': 0.05, 'n_estimators': 400, 'min_child_samples': 22, 'colsample_bytree': 0.9417354560075288, 'reg_alpha': 0.5}. Best is trial 4 with value: 0.7706422018348624.\n",
            "[I 2023-07-16 13:44:44,940] Trial 18 finished with value: 0.6972477064220184 and parameters: {'num_leaves': 27, 'max_depth': 12, 'learning_rate': 0.05, 'n_estimators': 100, 'min_child_samples': 10, 'colsample_bytree': 0.888426939127757, 'reg_alpha': 1.0}. Best is trial 4 with value: 0.7706422018348624.\n",
            "[I 2023-07-16 13:44:45,008] Trial 19 finished with value: 0.7522935779816514 and parameters: {'num_leaves': 16, 'max_depth': 8, 'learning_rate': 0.05, 'n_estimators': 200, 'min_child_samples': 21, 'colsample_bytree': 0.8430616600198795, 'reg_alpha': 0.0}. Best is trial 4 with value: 0.7706422018348624.\n",
            "[I 2023-07-16 13:44:45,078] Trial 20 finished with value: 0.6972477064220184 and parameters: {'num_leaves': 26, 'max_depth': 16, 'learning_rate': 0.05, 'n_estimators': 200, 'min_child_samples': 32, 'colsample_bytree': 0.954528739110225, 'reg_alpha': 0.0}. Best is trial 4 with value: 0.7706422018348624.\n",
            "[I 2023-07-16 13:44:45,141] Trial 21 finished with value: 0.7614678899082569 and parameters: {'num_leaves': 19, 'max_depth': 19, 'learning_rate': 0.1, 'n_estimators': 200, 'min_child_samples': 24, 'colsample_bytree': 0.9791036011006958, 'reg_alpha': 0.0}. Best is trial 4 with value: 0.7706422018348624.\n",
            "[I 2023-07-16 13:44:45,216] Trial 22 finished with value: 0.7522935779816514 and parameters: {'num_leaves': 36, 'max_depth': 20, 'learning_rate': 0.1, 'n_estimators': 200, 'min_child_samples': 14, 'colsample_bytree': 0.9073168740937729, 'reg_alpha': 0.0}. Best is trial 4 with value: 0.7706422018348624.\n",
            "[I 2023-07-16 13:44:45,276] Trial 23 finished with value: 0.7798165137614679 and parameters: {'num_leaves': 10, 'max_depth': 19, 'learning_rate': 0.01, 'n_estimators': 200, 'min_child_samples': 22, 'colsample_bytree': 0.9607325618249212, 'reg_alpha': 0.0}. Best is trial 23 with value: 0.7798165137614679.\n",
            "[I 2023-07-16 13:44:45,343] Trial 24 finished with value: 0.7614678899082569 and parameters: {'num_leaves': 10, 'max_depth': 18, 'learning_rate': 0.01, 'n_estimators': 200, 'min_child_samples': 18, 'colsample_bytree': 0.8993119452437989, 'reg_alpha': 0.0}. Best is trial 23 with value: 0.7798165137614679.\n",
            "[I 2023-07-16 13:44:45,386] Trial 25 finished with value: 0.6788990825688074 and parameters: {'num_leaves': 14, 'max_depth': 13, 'learning_rate': 0.01, 'n_estimators': 100, 'min_child_samples': 29, 'colsample_bytree': 0.9480131861527136, 'reg_alpha': 0.0}. Best is trial 23 with value: 0.7798165137614679.\n",
            "[I 2023-07-16 13:44:45,460] Trial 26 finished with value: 0.7339449541284404 and parameters: {'num_leaves': 19, 'max_depth': 16, 'learning_rate': 0.01, 'n_estimators': 300, 'min_child_samples': 21, 'colsample_bytree': 0.9263266296631122, 'reg_alpha': 0.5}. Best is trial 23 with value: 0.7798165137614679.\n",
            "[I 2023-07-16 13:44:45,562] Trial 27 finished with value: 0.7339449541284404 and parameters: {'num_leaves': 13, 'max_depth': 18, 'learning_rate': 0.01, 'n_estimators': 400, 'min_child_samples': 15, 'colsample_bytree': 0.992984288403934, 'reg_alpha': 0.1}. Best is trial 23 with value: 0.7798165137614679.\n",
            "[I 2023-07-16 13:44:45,638] Trial 28 finished with value: 0.7431192660550459 and parameters: {'num_leaves': 24, 'max_depth': 19, 'learning_rate': 0.05, 'n_estimators': 200, 'min_child_samples': 12, 'colsample_bytree': 0.8858032342724926, 'reg_alpha': 1.0}. Best is trial 23 with value: 0.7798165137614679.\n",
            "[I 2023-07-16 13:44:45,698] Trial 29 finished with value: 0.6788990825688074 and parameters: {'num_leaves': 18, 'max_depth': 14, 'learning_rate': 0.05, 'n_estimators': 100, 'min_child_samples': 36, 'colsample_bytree': 0.9630930355509842, 'reg_alpha': 0.1}. Best is trial 23 with value: 0.7798165137614679.\n",
            "[I 2023-07-16 13:44:45,745] Trial 30 finished with value: 0.6513761467889908 and parameters: {'num_leaves': 10, 'max_depth': 16, 'learning_rate': 0.01, 'n_estimators': 100, 'min_child_samples': 26, 'colsample_bytree': 0.8763962143327089, 'reg_alpha': 0.0}. Best is trial 23 with value: 0.7798165137614679.\n",
            "[I 2023-07-16 13:44:45,808] Trial 31 finished with value: 0.7706422018348624 and parameters: {'num_leaves': 29, 'max_depth': 20, 'learning_rate': 0.1, 'n_estimators': 200, 'min_child_samples': 22, 'colsample_bytree': 0.9646083919329983, 'reg_alpha': 0.0}. Best is trial 23 with value: 0.7798165137614679.\n",
            "[I 2023-07-16 13:44:45,871] Trial 32 finished with value: 0.7522935779816514 and parameters: {'num_leaves': 23, 'max_depth': 19, 'learning_rate': 0.05, 'n_estimators': 200, 'min_child_samples': 23, 'colsample_bytree': 0.9286935469984743, 'reg_alpha': 0.0}. Best is trial 23 with value: 0.7798165137614679.\n",
            "[I 2023-07-16 13:44:45,941] Trial 33 finished with value: 0.7798165137614679 and parameters: {'num_leaves': 29, 'max_depth': 20, 'learning_rate': 0.01, 'n_estimators': 200, 'min_child_samples': 17, 'colsample_bytree': 0.963762865627116, 'reg_alpha': 0.0}. Best is trial 23 with value: 0.7798165137614679.\n",
            "[I 2023-07-16 13:44:46,023] Trial 34 finished with value: 0.7706422018348624 and parameters: {'num_leaves': 15, 'max_depth': 18, 'learning_rate': 0.01, 'n_estimators': 200, 'min_child_samples': 18, 'colsample_bytree': 0.9989261761594384, 'reg_alpha': 0.0}. Best is trial 23 with value: 0.7798165137614679.\n",
            "[I 2023-07-16 13:44:46,091] Trial 35 finished with value: 0.7339449541284404 and parameters: {'num_leaves': 19, 'max_depth': 15, 'learning_rate': 0.01, 'n_estimators': 200, 'min_child_samples': 16, 'colsample_bytree': 0.9660189106823385, 'reg_alpha': 0.0}. Best is trial 23 with value: 0.7798165137614679.\n",
            "[I 2023-07-16 13:44:46,155] Trial 36 finished with value: 0.7614678899082569 and parameters: {'num_leaves': 21, 'max_depth': 20, 'learning_rate': 0.01, 'n_estimators': 200, 'min_child_samples': 20, 'colsample_bytree': 0.915760158108049, 'reg_alpha': 0.5}. Best is trial 23 with value: 0.7798165137614679.\n",
            "[I 2023-07-16 13:44:46,242] Trial 37 finished with value: 0.7064220183486238 and parameters: {'num_leaves': 31, 'max_depth': 17, 'learning_rate': 0.01, 'n_estimators': 300, 'min_child_samples': 12, 'colsample_bytree': 0.9439786522806543, 'reg_alpha': 1.0}. Best is trial 23 with value: 0.7798165137614679.\n",
            "[I 2023-07-16 13:44:46,317] Trial 38 finished with value: 0.7798165137614679 and parameters: {'num_leaves': 50, 'max_depth': 13, 'learning_rate': 0.01, 'n_estimators': 200, 'min_child_samples': 17, 'colsample_bytree': 0.9789968705868274, 'reg_alpha': 0.0}. Best is trial 23 with value: 0.7798165137614679.\n",
            "[I 2023-07-16 13:44:46,385] Trial 39 finished with value: 0.7798165137614679 and parameters: {'num_leaves': 50, 'max_depth': 13, 'learning_rate': 0.01, 'n_estimators': 200, 'min_child_samples': 17, 'colsample_bytree': 0.9733070382769982, 'reg_alpha': 0.0}. Best is trial 23 with value: 0.7798165137614679.\n",
            "[I 2023-07-16 13:44:46,457] Trial 40 finished with value: 0.7614678899082569 and parameters: {'num_leaves': 50, 'max_depth': 10, 'learning_rate': 0.01, 'n_estimators': 200, 'min_child_samples': 16, 'colsample_bytree': 0.9811555465458615, 'reg_alpha': 0.1}. Best is trial 23 with value: 0.7798165137614679.\n",
            "[I 2023-07-16 13:44:46,531] Trial 41 finished with value: 0.7706422018348624 and parameters: {'num_leaves': 46, 'max_depth': 13, 'learning_rate': 0.01, 'n_estimators': 200, 'min_child_samples': 18, 'colsample_bytree': 0.9741661713198916, 'reg_alpha': 0.0}. Best is trial 23 with value: 0.7798165137614679.\n",
            "[I 2023-07-16 13:44:46,620] Trial 42 finished with value: 0.7522935779816514 and parameters: {'num_leaves': 47, 'max_depth': 12, 'learning_rate': 0.01, 'n_estimators': 200, 'min_child_samples': 13, 'colsample_bytree': 0.9583374288965073, 'reg_alpha': 0.0}. Best is trial 23 with value: 0.7798165137614679.\n",
            "[I 2023-07-16 13:44:46,720] Trial 43 finished with value: 0.7155963302752294 and parameters: {'num_leaves': 35, 'max_depth': 14, 'learning_rate': 0.01, 'n_estimators': 400, 'min_child_samples': 16, 'colsample_bytree': 0.9780686384409337, 'reg_alpha': 0.0}. Best is trial 23 with value: 0.7798165137614679.\n",
            "[I 2023-07-16 13:44:46,786] Trial 44 finished with value: 0.7522935779816514 and parameters: {'num_leaves': 40, 'max_depth': 10, 'learning_rate': 0.01, 'n_estimators': 200, 'min_child_samples': 19, 'colsample_bytree': 0.8284700541908148, 'reg_alpha': 0.0}. Best is trial 23 with value: 0.7798165137614679.\n",
            "[I 2023-07-16 13:44:46,846] Trial 45 finished with value: 0.6972477064220184 and parameters: {'num_leaves': 44, 'max_depth': 11, 'learning_rate': 0.01, 'n_estimators': 100, 'min_child_samples': 11, 'colsample_bytree': 0.7746344372761484, 'reg_alpha': 0.0}. Best is trial 23 with value: 0.7798165137614679.\n",
            "[I 2023-07-16 13:44:46,930] Trial 46 finished with value: 0.7431192660550459 and parameters: {'num_leaves': 50, 'max_depth': 12, 'learning_rate': 0.01, 'n_estimators': 200, 'min_child_samples': 13, 'colsample_bytree': 0.8076163977412195, 'reg_alpha': 0.0}. Best is trial 23 with value: 0.7798165137614679.\n",
            "[I 2023-07-16 13:44:47,013] Trial 47 finished with value: 0.7431192660550459 and parameters: {'num_leaves': 48, 'max_depth': 13, 'learning_rate': 0.01, 'n_estimators': 200, 'min_child_samples': 17, 'colsample_bytree': 0.9986808668402504, 'reg_alpha': 1.0}. Best is trial 23 with value: 0.7798165137614679.\n",
            "[I 2023-07-16 13:44:47,078] Trial 48 finished with value: 0.7155963302752294 and parameters: {'num_leaves': 33, 'max_depth': 14, 'learning_rate': 0.01, 'n_estimators': 300, 'min_child_samples': 44, 'colsample_bytree': 0.8633385024167582, 'reg_alpha': 0.5}. Best is trial 23 with value: 0.7798165137614679.\n",
            "[I 2023-07-16 13:44:47,137] Trial 49 finished with value: 0.7339449541284404 and parameters: {'num_leaves': 44, 'max_depth': 15, 'learning_rate': 0.01, 'n_estimators': 100, 'min_child_samples': 20, 'colsample_bytree': 0.9444023640055237, 'reg_alpha': 0.0}. Best is trial 23 with value: 0.7798165137614679.\n"
          ]
        }
      ]
    },
    {
      "cell_type": "code",
      "source": [
        "LGBM_model(**optuna_.best_params)"
      ],
      "metadata": {
        "colab": {
          "base_uri": "https://localhost:8080/"
        },
        "id": "PQ3f-finmDXn",
        "outputId": "fe35b10a-630b-472b-ceef-7cdc104486a2"
      },
      "execution_count": 54,
      "outputs": [
        {
          "output_type": "stream",
          "name": "stdout",
          "text": [
            "Training score: 0.799\n",
            "Testing score: 0.78\n"
          ]
        }
      ]
    },
    {
      "cell_type": "code",
      "source": [],
      "metadata": {
        "id": "3I5JoDLKmwIF"
      },
      "execution_count": 54,
      "outputs": []
    }
  ]
}